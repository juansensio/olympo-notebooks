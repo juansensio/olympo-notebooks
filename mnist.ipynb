{
 "cells": [
  {
   "cell_type": "markdown",
   "id": "e37d0c17",
   "metadata": {
    "papermill": {
     "duration": 0.014686,
     "end_time": "2024-01-29T13:50:58.557674",
     "exception": false,
     "start_time": "2024-01-29T13:50:58.542988",
     "status": "completed"
    },
    "tags": []
   },
   "source": [
    "# Imports "
   ]
  },
  {
   "cell_type": "code",
   "execution_count": 1,
   "id": "4d1e4545",
   "metadata": {
    "execution": {
     "iopub.execute_input": "2024-01-29T13:50:58.587834Z",
     "iopub.status.busy": "2024-01-29T13:50:58.587345Z",
     "iopub.status.idle": "2024-01-29T13:51:20.274834Z",
     "shell.execute_reply": "2024-01-29T13:51:20.272630Z"
    },
    "papermill": {
     "duration": 21.705911,
     "end_time": "2024-01-29T13:51:20.278131",
     "exception": false,
     "start_time": "2024-01-29T13:50:58.572220",
     "status": "completed"
    },
    "tags": []
   },
   "outputs": [],
   "source": [
    "!pip install lightning -q"
   ]
  },
  {
   "cell_type": "code",
   "execution_count": 1,
   "id": "39d00452",
   "metadata": {
    "_cell_guid": "b1076dfc-b9ad-4769-8c92-a6c4dae69d19",
    "_uuid": "8f2839f25d086af736a60e9eeb907d3b93b6e0e5",
    "execution": {
     "iopub.execute_input": "2024-01-29T13:51:20.308547Z",
     "iopub.status.busy": "2024-01-29T13:51:20.307950Z",
     "iopub.status.idle": "2024-01-29T13:51:32.467382Z",
     "shell.execute_reply": "2024-01-29T13:51:32.465840Z"
    },
    "papermill": {
     "duration": 12.180384,
     "end_time": "2024-01-29T13:51:32.471849",
     "exception": false,
     "start_time": "2024-01-29T13:51:20.291465",
     "status": "completed"
    },
    "tags": []
   },
   "outputs": [],
   "source": [
    "# Herramientas\n",
    "import os\n",
    "from tqdm import tqdm\n",
    "from pathlib import Path\n",
    "\n",
    "# Manejo de datos\n",
    "import numpy as np\n",
    "import pandas as pd\n",
    "\n",
    "# Visualización\n",
    "import matplotlib.pyplot as plt\n",
    "\n",
    "# Torch\n",
    "import torch\n",
    "import torch.nn as nn\n",
    "import torch.nn.functional as F\n",
    "from torch.utils.data import Dataset, DataLoader\n",
    "\n",
    "# Lightning\n",
    "import lightning as L\n",
    "\n",
    "# Scikit learn\n",
    "from sklearn import model_selection\n",
    "\n",
    "# Warnings\n",
    "import warnings\n",
    "warnings.filterwarnings('ignore')\n",
    "\n",
    "# Matplot estilo\n",
    "plt.style.use('ggplot')"
   ]
  },
  {
   "cell_type": "markdown",
   "id": "68bbb024",
   "metadata": {
    "papermill": {
     "duration": 0.01371,
     "end_time": "2024-01-29T13:51:32.504391",
     "exception": false,
     "start_time": "2024-01-29T13:51:32.490681",
     "status": "completed"
    },
    "tags": []
   },
   "source": [
    "#  Carga de datos \n",
    "\n",
    "<p style=\"font-size:16px; font-family:verdana; line-height: 1.7em; margin-left: 20px\">   \n",
    "Para poder tener acceso a los datos, lo que debemos hacer es permitirle a python poder ubicarlos, para lo cual vamos a utilizar la librería pathlib. Mediante el uso de la clase Path de pathlib, añadimos el path (dirección de ubicación) de los datos, y lo asignamos a una variable que denominamos files_path. Dado que los datasets se encuentran en formato CSV, vamos a utilizar Pandas para leerlos, mas precisamente la función read_csv()."
   ]
  },
  {
   "cell_type": "code",
   "execution_count": 3,
   "id": "f0b925e3",
   "metadata": {
    "execution": {
     "iopub.execute_input": "2024-01-29T13:51:32.536097Z",
     "iopub.status.busy": "2024-01-29T13:51:32.535349Z",
     "iopub.status.idle": "2024-01-29T13:51:32.540755Z",
     "shell.execute_reply": "2024-01-29T13:51:32.539463Z"
    },
    "papermill": {
     "duration": 0.025247,
     "end_time": "2024-01-29T13:51:32.543681",
     "exception": false,
     "start_time": "2024-01-29T13:51:32.518434",
     "status": "completed"
    },
    "tags": []
   },
   "outputs": [],
   "source": [
    "files_path = 'data/mnist'"
   ]
  },
  {
   "cell_type": "code",
   "execution_count": 4,
   "id": "e8af9a1d",
   "metadata": {
    "execution": {
     "iopub.execute_input": "2024-01-29T13:51:32.576981Z",
     "iopub.status.busy": "2024-01-29T13:51:32.576189Z",
     "iopub.status.idle": "2024-01-29T13:51:32.592184Z",
     "shell.execute_reply": "2024-01-29T13:51:32.591085Z"
    },
    "papermill": {
     "duration": 0.035718,
     "end_time": "2024-01-29T13:51:32.594833",
     "exception": false,
     "start_time": "2024-01-29T13:51:32.559115",
     "status": "completed"
    },
    "tags": []
   },
   "outputs": [
    {
     "data": {
      "text/plain": [
       "['sample_submission.csv', 'mnist_train.csv', 'mnist_test.csv']"
      ]
     },
     "execution_count": 4,
     "metadata": {},
     "output_type": "execute_result"
    }
   ],
   "source": [
    "path = Path(files_path)\n",
    "os.listdir(path)"
   ]
  },
  {
   "cell_type": "code",
   "execution_count": 5,
   "id": "07171cfc",
   "metadata": {
    "execution": {
     "iopub.execute_input": "2024-01-29T13:51:32.627137Z",
     "iopub.status.busy": "2024-01-29T13:51:32.626243Z",
     "iopub.status.idle": "2024-01-29T13:51:42.344416Z",
     "shell.execute_reply": "2024-01-29T13:51:42.342903Z"
    },
    "papermill": {
     "duration": 9.738078,
     "end_time": "2024-01-29T13:51:42.347840",
     "exception": false,
     "start_time": "2024-01-29T13:51:32.609762",
     "status": "completed"
    },
    "tags": []
   },
   "outputs": [],
   "source": [
    "train = pd.read_csv(path/'mnist_train.csv')"
   ]
  },
  {
   "cell_type": "code",
   "execution_count": 7,
   "id": "5eaa7f1e",
   "metadata": {
    "execution": {
     "iopub.execute_input": "2024-01-29T13:51:42.384440Z",
     "iopub.status.busy": "2024-01-29T13:51:42.383883Z",
     "iopub.status.idle": "2024-01-29T13:51:44.836994Z",
     "shell.execute_reply": "2024-01-29T13:51:44.834698Z"
    },
    "papermill": {
     "duration": 2.474183,
     "end_time": "2024-01-29T13:51:44.840367",
     "exception": false,
     "start_time": "2024-01-29T13:51:42.366184",
     "status": "completed"
    },
    "tags": []
   },
   "outputs": [],
   "source": [
    "test = pd.read_csv(path/'mnist_test.csv')"
   ]
  },
  {
   "cell_type": "markdown",
   "id": "bdecff62",
   "metadata": {
    "papermill": {
     "duration": 0.017243,
     "end_time": "2024-01-29T13:51:44.872250",
     "exception": false,
     "start_time": "2024-01-29T13:51:44.855007",
     "status": "completed"
    },
    "tags": []
   },
   "source": [
    "<p style=\"font-size:16px; font-family:verdana; line-height: 1.7em; margin-left: 20px\">   \n",
    "Una vez cargados los datos podemos valernos de todas las funciones que dispone pandas para analizarlos, mediante .sample() podemos ver un listado random de filas que conforman los datasets. El número 5 es para espedificarle a sample la cantidad de filas o rows que deseamos ver, por defecto este valor es 1."
   ]
  },
  {
   "cell_type": "code",
   "execution_count": 8,
   "id": "f7c3ec45",
   "metadata": {
    "execution": {
     "iopub.execute_input": "2024-01-29T13:51:44.914942Z",
     "iopub.status.busy": "2024-01-29T13:51:44.914484Z",
     "iopub.status.idle": "2024-01-29T13:51:44.990778Z",
     "shell.execute_reply": "2024-01-29T13:51:44.988309Z"
    },
    "papermill": {
     "duration": 0.097406,
     "end_time": "2024-01-29T13:51:44.993958",
     "exception": false,
     "start_time": "2024-01-29T13:51:44.896552",
     "status": "completed"
    },
    "tags": []
   },
   "outputs": [
    {
     "data": {
      "text/html": [
       "<div>\n",
       "<style scoped>\n",
       "    .dataframe tbody tr th:only-of-type {\n",
       "        vertical-align: middle;\n",
       "    }\n",
       "\n",
       "    .dataframe tbody tr th {\n",
       "        vertical-align: top;\n",
       "    }\n",
       "\n",
       "    .dataframe thead th {\n",
       "        text-align: right;\n",
       "    }\n",
       "</style>\n",
       "<table border=\"1\" class=\"dataframe\">\n",
       "  <thead>\n",
       "    <tr style=\"text-align: right;\">\n",
       "      <th></th>\n",
       "      <th>pixel1</th>\n",
       "      <th>pixel2</th>\n",
       "      <th>pixel3</th>\n",
       "      <th>pixel4</th>\n",
       "      <th>pixel5</th>\n",
       "      <th>pixel6</th>\n",
       "      <th>pixel7</th>\n",
       "      <th>pixel8</th>\n",
       "      <th>pixel9</th>\n",
       "      <th>pixel10</th>\n",
       "      <th>...</th>\n",
       "      <th>pixel776</th>\n",
       "      <th>pixel777</th>\n",
       "      <th>pixel778</th>\n",
       "      <th>pixel779</th>\n",
       "      <th>pixel780</th>\n",
       "      <th>pixel781</th>\n",
       "      <th>pixel782</th>\n",
       "      <th>pixel783</th>\n",
       "      <th>pixel784</th>\n",
       "      <th>label</th>\n",
       "    </tr>\n",
       "  </thead>\n",
       "  <tbody>\n",
       "    <tr>\n",
       "      <th>46302</th>\n",
       "      <td>0.0</td>\n",
       "      <td>0.0</td>\n",
       "      <td>0.0</td>\n",
       "      <td>0.0</td>\n",
       "      <td>0.0</td>\n",
       "      <td>0.0</td>\n",
       "      <td>0.0</td>\n",
       "      <td>0.0</td>\n",
       "      <td>0.0</td>\n",
       "      <td>0.0</td>\n",
       "      <td>...</td>\n",
       "      <td>0.0</td>\n",
       "      <td>0.0</td>\n",
       "      <td>0.0</td>\n",
       "      <td>0.0</td>\n",
       "      <td>0.0</td>\n",
       "      <td>0.0</td>\n",
       "      <td>0.0</td>\n",
       "      <td>0.0</td>\n",
       "      <td>0.0</td>\n",
       "      <td>9</td>\n",
       "    </tr>\n",
       "    <tr>\n",
       "      <th>26493</th>\n",
       "      <td>0.0</td>\n",
       "      <td>0.0</td>\n",
       "      <td>0.0</td>\n",
       "      <td>0.0</td>\n",
       "      <td>0.0</td>\n",
       "      <td>0.0</td>\n",
       "      <td>0.0</td>\n",
       "      <td>0.0</td>\n",
       "      <td>0.0</td>\n",
       "      <td>0.0</td>\n",
       "      <td>...</td>\n",
       "      <td>0.0</td>\n",
       "      <td>0.0</td>\n",
       "      <td>0.0</td>\n",
       "      <td>0.0</td>\n",
       "      <td>0.0</td>\n",
       "      <td>0.0</td>\n",
       "      <td>0.0</td>\n",
       "      <td>0.0</td>\n",
       "      <td>0.0</td>\n",
       "      <td>4</td>\n",
       "    </tr>\n",
       "    <tr>\n",
       "      <th>9939</th>\n",
       "      <td>0.0</td>\n",
       "      <td>0.0</td>\n",
       "      <td>0.0</td>\n",
       "      <td>0.0</td>\n",
       "      <td>0.0</td>\n",
       "      <td>0.0</td>\n",
       "      <td>0.0</td>\n",
       "      <td>0.0</td>\n",
       "      <td>0.0</td>\n",
       "      <td>0.0</td>\n",
       "      <td>...</td>\n",
       "      <td>0.0</td>\n",
       "      <td>0.0</td>\n",
       "      <td>0.0</td>\n",
       "      <td>0.0</td>\n",
       "      <td>0.0</td>\n",
       "      <td>0.0</td>\n",
       "      <td>0.0</td>\n",
       "      <td>0.0</td>\n",
       "      <td>0.0</td>\n",
       "      <td>9</td>\n",
       "    </tr>\n",
       "    <tr>\n",
       "      <th>48249</th>\n",
       "      <td>0.0</td>\n",
       "      <td>0.0</td>\n",
       "      <td>0.0</td>\n",
       "      <td>0.0</td>\n",
       "      <td>0.0</td>\n",
       "      <td>0.0</td>\n",
       "      <td>0.0</td>\n",
       "      <td>0.0</td>\n",
       "      <td>0.0</td>\n",
       "      <td>0.0</td>\n",
       "      <td>...</td>\n",
       "      <td>0.0</td>\n",
       "      <td>0.0</td>\n",
       "      <td>0.0</td>\n",
       "      <td>0.0</td>\n",
       "      <td>0.0</td>\n",
       "      <td>0.0</td>\n",
       "      <td>0.0</td>\n",
       "      <td>0.0</td>\n",
       "      <td>0.0</td>\n",
       "      <td>0</td>\n",
       "    </tr>\n",
       "    <tr>\n",
       "      <th>28977</th>\n",
       "      <td>0.0</td>\n",
       "      <td>0.0</td>\n",
       "      <td>0.0</td>\n",
       "      <td>0.0</td>\n",
       "      <td>0.0</td>\n",
       "      <td>0.0</td>\n",
       "      <td>0.0</td>\n",
       "      <td>0.0</td>\n",
       "      <td>0.0</td>\n",
       "      <td>0.0</td>\n",
       "      <td>...</td>\n",
       "      <td>0.0</td>\n",
       "      <td>0.0</td>\n",
       "      <td>0.0</td>\n",
       "      <td>0.0</td>\n",
       "      <td>0.0</td>\n",
       "      <td>0.0</td>\n",
       "      <td>0.0</td>\n",
       "      <td>0.0</td>\n",
       "      <td>0.0</td>\n",
       "      <td>7</td>\n",
       "    </tr>\n",
       "  </tbody>\n",
       "</table>\n",
       "<p>5 rows × 785 columns</p>\n",
       "</div>"
      ],
      "text/plain": [
       "       pixel1  pixel2  pixel3  pixel4  pixel5  pixel6  pixel7  pixel8  pixel9  \\\n",
       "46302     0.0     0.0     0.0     0.0     0.0     0.0     0.0     0.0     0.0   \n",
       "26493     0.0     0.0     0.0     0.0     0.0     0.0     0.0     0.0     0.0   \n",
       "9939      0.0     0.0     0.0     0.0     0.0     0.0     0.0     0.0     0.0   \n",
       "48249     0.0     0.0     0.0     0.0     0.0     0.0     0.0     0.0     0.0   \n",
       "28977     0.0     0.0     0.0     0.0     0.0     0.0     0.0     0.0     0.0   \n",
       "\n",
       "       pixel10  ...  pixel776  pixel777  pixel778  pixel779  pixel780  \\\n",
       "46302      0.0  ...       0.0       0.0       0.0       0.0       0.0   \n",
       "26493      0.0  ...       0.0       0.0       0.0       0.0       0.0   \n",
       "9939       0.0  ...       0.0       0.0       0.0       0.0       0.0   \n",
       "48249      0.0  ...       0.0       0.0       0.0       0.0       0.0   \n",
       "28977      0.0  ...       0.0       0.0       0.0       0.0       0.0   \n",
       "\n",
       "       pixel781  pixel782  pixel783  pixel784  label  \n",
       "46302       0.0       0.0       0.0       0.0      9  \n",
       "26493       0.0       0.0       0.0       0.0      4  \n",
       "9939        0.0       0.0       0.0       0.0      9  \n",
       "48249       0.0       0.0       0.0       0.0      0  \n",
       "28977       0.0       0.0       0.0       0.0      7  \n",
       "\n",
       "[5 rows x 785 columns]"
      ]
     },
     "execution_count": 8,
     "metadata": {},
     "output_type": "execute_result"
    }
   ],
   "source": [
    "train.sample(5)"
   ]
  },
  {
   "cell_type": "code",
   "execution_count": 9,
   "id": "effd3b2a",
   "metadata": {
    "execution": {
     "iopub.execute_input": "2024-01-29T13:51:45.029157Z",
     "iopub.status.busy": "2024-01-29T13:51:45.028392Z",
     "iopub.status.idle": "2024-01-29T13:51:45.075113Z",
     "shell.execute_reply": "2024-01-29T13:51:45.073099Z"
    },
    "papermill": {
     "duration": 0.070184,
     "end_time": "2024-01-29T13:51:45.081443",
     "exception": false,
     "start_time": "2024-01-29T13:51:45.011259",
     "status": "completed"
    },
    "tags": []
   },
   "outputs": [
    {
     "data": {
      "text/html": [
       "<div>\n",
       "<style scoped>\n",
       "    .dataframe tbody tr th:only-of-type {\n",
       "        vertical-align: middle;\n",
       "    }\n",
       "\n",
       "    .dataframe tbody tr th {\n",
       "        vertical-align: top;\n",
       "    }\n",
       "\n",
       "    .dataframe thead th {\n",
       "        text-align: right;\n",
       "    }\n",
       "</style>\n",
       "<table border=\"1\" class=\"dataframe\">\n",
       "  <thead>\n",
       "    <tr style=\"text-align: right;\">\n",
       "      <th></th>\n",
       "      <th>pixel1</th>\n",
       "      <th>pixel2</th>\n",
       "      <th>pixel3</th>\n",
       "      <th>pixel4</th>\n",
       "      <th>pixel5</th>\n",
       "      <th>pixel6</th>\n",
       "      <th>pixel7</th>\n",
       "      <th>pixel8</th>\n",
       "      <th>pixel9</th>\n",
       "      <th>pixel10</th>\n",
       "      <th>...</th>\n",
       "      <th>pixel775</th>\n",
       "      <th>pixel776</th>\n",
       "      <th>pixel777</th>\n",
       "      <th>pixel778</th>\n",
       "      <th>pixel779</th>\n",
       "      <th>pixel780</th>\n",
       "      <th>pixel781</th>\n",
       "      <th>pixel782</th>\n",
       "      <th>pixel783</th>\n",
       "      <th>pixel784</th>\n",
       "    </tr>\n",
       "  </thead>\n",
       "  <tbody>\n",
       "    <tr>\n",
       "      <th>75</th>\n",
       "      <td>0.0</td>\n",
       "      <td>0.0</td>\n",
       "      <td>0.0</td>\n",
       "      <td>0.0</td>\n",
       "      <td>0.0</td>\n",
       "      <td>0.0</td>\n",
       "      <td>0.0</td>\n",
       "      <td>0.0</td>\n",
       "      <td>0.0</td>\n",
       "      <td>0.0</td>\n",
       "      <td>...</td>\n",
       "      <td>0.0</td>\n",
       "      <td>0.0</td>\n",
       "      <td>0.0</td>\n",
       "      <td>0.0</td>\n",
       "      <td>0.0</td>\n",
       "      <td>0.0</td>\n",
       "      <td>0.0</td>\n",
       "      <td>0.0</td>\n",
       "      <td>0.0</td>\n",
       "      <td>0.0</td>\n",
       "    </tr>\n",
       "    <tr>\n",
       "      <th>7959</th>\n",
       "      <td>0.0</td>\n",
       "      <td>0.0</td>\n",
       "      <td>0.0</td>\n",
       "      <td>0.0</td>\n",
       "      <td>0.0</td>\n",
       "      <td>0.0</td>\n",
       "      <td>0.0</td>\n",
       "      <td>0.0</td>\n",
       "      <td>0.0</td>\n",
       "      <td>0.0</td>\n",
       "      <td>...</td>\n",
       "      <td>0.0</td>\n",
       "      <td>0.0</td>\n",
       "      <td>0.0</td>\n",
       "      <td>0.0</td>\n",
       "      <td>0.0</td>\n",
       "      <td>0.0</td>\n",
       "      <td>0.0</td>\n",
       "      <td>0.0</td>\n",
       "      <td>0.0</td>\n",
       "      <td>0.0</td>\n",
       "    </tr>\n",
       "    <tr>\n",
       "      <th>3356</th>\n",
       "      <td>0.0</td>\n",
       "      <td>0.0</td>\n",
       "      <td>0.0</td>\n",
       "      <td>0.0</td>\n",
       "      <td>0.0</td>\n",
       "      <td>0.0</td>\n",
       "      <td>0.0</td>\n",
       "      <td>0.0</td>\n",
       "      <td>0.0</td>\n",
       "      <td>0.0</td>\n",
       "      <td>...</td>\n",
       "      <td>0.0</td>\n",
       "      <td>0.0</td>\n",
       "      <td>0.0</td>\n",
       "      <td>0.0</td>\n",
       "      <td>0.0</td>\n",
       "      <td>0.0</td>\n",
       "      <td>0.0</td>\n",
       "      <td>0.0</td>\n",
       "      <td>0.0</td>\n",
       "      <td>0.0</td>\n",
       "    </tr>\n",
       "    <tr>\n",
       "      <th>7758</th>\n",
       "      <td>0.0</td>\n",
       "      <td>0.0</td>\n",
       "      <td>0.0</td>\n",
       "      <td>0.0</td>\n",
       "      <td>0.0</td>\n",
       "      <td>0.0</td>\n",
       "      <td>0.0</td>\n",
       "      <td>0.0</td>\n",
       "      <td>0.0</td>\n",
       "      <td>0.0</td>\n",
       "      <td>...</td>\n",
       "      <td>0.0</td>\n",
       "      <td>0.0</td>\n",
       "      <td>0.0</td>\n",
       "      <td>0.0</td>\n",
       "      <td>0.0</td>\n",
       "      <td>0.0</td>\n",
       "      <td>0.0</td>\n",
       "      <td>0.0</td>\n",
       "      <td>0.0</td>\n",
       "      <td>0.0</td>\n",
       "    </tr>\n",
       "    <tr>\n",
       "      <th>10647</th>\n",
       "      <td>0.0</td>\n",
       "      <td>0.0</td>\n",
       "      <td>0.0</td>\n",
       "      <td>0.0</td>\n",
       "      <td>0.0</td>\n",
       "      <td>0.0</td>\n",
       "      <td>0.0</td>\n",
       "      <td>0.0</td>\n",
       "      <td>0.0</td>\n",
       "      <td>0.0</td>\n",
       "      <td>...</td>\n",
       "      <td>0.0</td>\n",
       "      <td>0.0</td>\n",
       "      <td>0.0</td>\n",
       "      <td>0.0</td>\n",
       "      <td>0.0</td>\n",
       "      <td>0.0</td>\n",
       "      <td>0.0</td>\n",
       "      <td>0.0</td>\n",
       "      <td>0.0</td>\n",
       "      <td>0.0</td>\n",
       "    </tr>\n",
       "  </tbody>\n",
       "</table>\n",
       "<p>5 rows × 784 columns</p>\n",
       "</div>"
      ],
      "text/plain": [
       "       pixel1  pixel2  pixel3  pixel4  pixel5  pixel6  pixel7  pixel8  pixel9  \\\n",
       "75        0.0     0.0     0.0     0.0     0.0     0.0     0.0     0.0     0.0   \n",
       "7959      0.0     0.0     0.0     0.0     0.0     0.0     0.0     0.0     0.0   \n",
       "3356      0.0     0.0     0.0     0.0     0.0     0.0     0.0     0.0     0.0   \n",
       "7758      0.0     0.0     0.0     0.0     0.0     0.0     0.0     0.0     0.0   \n",
       "10647     0.0     0.0     0.0     0.0     0.0     0.0     0.0     0.0     0.0   \n",
       "\n",
       "       pixel10  ...  pixel775  pixel776  pixel777  pixel778  pixel779  \\\n",
       "75         0.0  ...       0.0       0.0       0.0       0.0       0.0   \n",
       "7959       0.0  ...       0.0       0.0       0.0       0.0       0.0   \n",
       "3356       0.0  ...       0.0       0.0       0.0       0.0       0.0   \n",
       "7758       0.0  ...       0.0       0.0       0.0       0.0       0.0   \n",
       "10647      0.0  ...       0.0       0.0       0.0       0.0       0.0   \n",
       "\n",
       "       pixel780  pixel781  pixel782  pixel783  pixel784  \n",
       "75          0.0       0.0       0.0       0.0       0.0  \n",
       "7959        0.0       0.0       0.0       0.0       0.0  \n",
       "3356        0.0       0.0       0.0       0.0       0.0  \n",
       "7758        0.0       0.0       0.0       0.0       0.0  \n",
       "10647       0.0       0.0       0.0       0.0       0.0  \n",
       "\n",
       "[5 rows x 784 columns]"
      ]
     },
     "execution_count": 9,
     "metadata": {},
     "output_type": "execute_result"
    }
   ],
   "source": [
    "test.sample(5)"
   ]
  },
  {
   "cell_type": "markdown",
   "id": "38d64e28",
   "metadata": {
    "papermill": {
     "duration": 0.017108,
     "end_time": "2024-01-29T13:51:45.117119",
     "exception": false,
     "start_time": "2024-01-29T13:51:45.100011",
     "status": "completed"
    },
    "tags": []
   },
   "source": [
    "<p style=\"font-size:16px; font-family:verdana; line-height: 1.7em; margin-left: 20px\">   \n",
    "Mediante el uso de \".shape\" podemos tener un pantallazo general de cuantas filas y columnas hay en los datasets. En este caso, podemos ver que el dataset train, está formado por 56000 filas y 785 columnas, una de las cuales se llama label, que es la variable que se debe predecir, la misma es un dígito que va de 0 a 9. El resto de columnas o features, corresponden a los diferentes píxeles de los dígitos hechos a mano. Cada dígito de dimensiones 28 x 28, estirada en un array de 784 de largo. El dataset de test compuesto por 14000 filas y 784 columnas, los datos de test, no cuentan con la variable label la cual debemos predecir nosotros, y está formada por dígitos del 0 al 9, como vimos con anterioridad. A esto lo podemos ver, gracias a la utilización de otra función de pandas llamada value_counts(), con sort_index() lo que hacemos es que pandas ordene los valores de acuedo a su índice, en este caso label. Por defecto los ordena de acuerdo a la cuenta de los mismos."
   ]
  },
  {
   "cell_type": "code",
   "execution_count": 10,
   "id": "7a308e5e",
   "metadata": {
    "execution": {
     "iopub.execute_input": "2024-01-29T13:51:45.151748Z",
     "iopub.status.busy": "2024-01-29T13:51:45.150883Z",
     "iopub.status.idle": "2024-01-29T13:51:45.159767Z",
     "shell.execute_reply": "2024-01-29T13:51:45.157619Z"
    },
    "papermill": {
     "duration": 0.03284,
     "end_time": "2024-01-29T13:51:45.166433",
     "exception": false,
     "start_time": "2024-01-29T13:51:45.133593",
     "status": "completed"
    },
    "tags": []
   },
   "outputs": [
    {
     "data": {
      "text/plain": [
       "((56000, 785), (14000, 784))"
      ]
     },
     "execution_count": 10,
     "metadata": {},
     "output_type": "execute_result"
    }
   ],
   "source": [
    "train.shape, test.shape"
   ]
  },
  {
   "cell_type": "code",
   "execution_count": 11,
   "id": "2714ce5e",
   "metadata": {
    "execution": {
     "iopub.execute_input": "2024-01-29T13:51:45.207764Z",
     "iopub.status.busy": "2024-01-29T13:51:45.207324Z",
     "iopub.status.idle": "2024-01-29T13:51:45.228880Z",
     "shell.execute_reply": "2024-01-29T13:51:45.227398Z"
    },
    "papermill": {
     "duration": 0.043155,
     "end_time": "2024-01-29T13:51:45.232145",
     "exception": false,
     "start_time": "2024-01-29T13:51:45.188990",
     "status": "completed"
    },
    "tags": []
   },
   "outputs": [
    {
     "data": {
      "text/plain": [
       "0    5522\n",
       "1    6302\n",
       "2    5592\n",
       "3    5713\n",
       "4    5459\n",
       "5    5050\n",
       "6    5501\n",
       "7    5834\n",
       "8    5460\n",
       "9    5567\n",
       "Name: label, dtype: int64"
      ]
     },
     "execution_count": 11,
     "metadata": {},
     "output_type": "execute_result"
    }
   ],
   "source": [
    "train.label.value_counts().sort_index()"
   ]
  },
  {
   "cell_type": "markdown",
   "id": "feb8f0d2",
   "metadata": {
    "papermill": {
     "duration": 0.016999,
     "end_time": "2024-01-29T13:51:45.265016",
     "exception": false,
     "start_time": "2024-01-29T13:51:45.248017",
     "status": "completed"
    },
    "tags": []
   },
   "source": [
    "# Exploración de datos \n",
    "\n",
    "<p style=\"font-size:16px; font-family:verdana; line-height: 1.7em; margin-left: 20px\">   \n",
    "En este apartado veremos como se forma cada uno de los dígitos y algunas muestras del dataset"
   ]
  },
  {
   "cell_type": "code",
   "execution_count": 12,
   "id": "c3574265",
   "metadata": {
    "execution": {
     "iopub.execute_input": "2024-01-29T13:51:45.310390Z",
     "iopub.status.busy": "2024-01-29T13:51:45.309692Z",
     "iopub.status.idle": "2024-01-29T13:51:45.319988Z",
     "shell.execute_reply": "2024-01-29T13:51:45.318965Z"
    },
    "papermill": {
     "duration": 0.034821,
     "end_time": "2024-01-29T13:51:45.324541",
     "exception": false,
     "start_time": "2024-01-29T13:51:45.289720",
     "status": "completed"
    },
    "tags": []
   },
   "outputs": [],
   "source": [
    "def show_digit_random_sample(df):\n",
    "    \"\"\"\n",
    "    Con esta función podremos ver una muestra aleatoria de un dígito del dataset que le pasemos como argumento\n",
    "    \"\"\"\n",
    "    # tomamos un ídice aleatorio con random.randint\n",
    "    idx = np.random.randint(0, len(df))\n",
    "    # utilizamos ese índice para filtrar los datos\n",
    "    img = df.iloc[idx, 1:].values\n",
    "    # nos quedamos con la label correspondiente\n",
    "    label = df.loc[idx, 'label']\n",
    "    # reshape del array al formato 28x28\n",
    "    img = img.reshape(28, 28)\n",
    "\n",
    "    # creamos una figura con matplotlib\n",
    "    fig = plt.figure(figsize = (12,12))\n",
    "    # añadimos de título la label correspondiente\n",
    "    plt.title(f'Label = {label}')\n",
    "    ax = fig.add_subplot(111)\n",
    "    # creamos una cuadrícula y mostramos el array de imagen en ella\n",
    "    ax.imshow(img, cmap='Blues_r')\n",
    "    width, height = img.shape\n",
    "    thresh = img.max()/2.5\n",
    "    for x in range(width):\n",
    "        for y in range(height):\n",
    "            val = round(img[x][y],2) if img[x][y] !=0 else 0\n",
    "            ax.annotate(str(val), xy=(y,x),\n",
    "                        horizontalalignment='center',\n",
    "                        verticalalignment='center',\n",
    "                        color='white' if img[x][y]<thresh else 'black')"
   ]
  },
  {
   "cell_type": "code",
   "execution_count": 15,
   "id": "8a2b1f59",
   "metadata": {
    "execution": {
     "iopub.execute_input": "2024-01-29T13:51:45.468641Z",
     "iopub.status.busy": "2024-01-29T13:51:45.467956Z",
     "iopub.status.idle": "2024-01-29T13:51:50.193348Z",
     "shell.execute_reply": "2024-01-29T13:51:50.192402Z"
    },
    "papermill": {
     "duration": 4.855052,
     "end_time": "2024-01-29T13:51:50.197033",
     "exception": false,
     "start_time": "2024-01-29T13:51:45.341981",
     "status": "completed"
    },
    "tags": []
   },
   "outputs": [
    {
     "data": {
      "image/png": "[encoded data removed]",
      "text/plain": [
       "<Figure size 1200x1200 with 2 Axes>"
      ]
     },
     "metadata": {},
     "output_type": "display_data"
    }
   ],
   "source": [
    "show_digit_random_sample(train)"
   ]
  },
  {
   "cell_type": "markdown",
   "id": "c3f6edc6",
   "metadata": {
    "papermill": {
     "duration": 0.01828,
     "end_time": "2024-01-29T13:51:50.234357",
     "exception": false,
     "start_time": "2024-01-29T13:51:50.216077",
     "status": "completed"
    },
    "tags": []
   },
   "source": [
    "<p style=\"font-size:16px; font-family:verdana; line-height: 1.7em; margin-left: 20px\">   \n",
    "Aquí podemos ver en este caso un 7, el cual se forma pintando ciertos pílexes de la cuadrícula que conforman las columnas o features del dataset."
   ]
  },
  {
   "cell_type": "code",
   "execution_count": 16,
   "id": "6f5ec79a",
   "metadata": {
    "execution": {
     "iopub.execute_input": "2024-01-29T13:51:50.276652Z",
     "iopub.status.busy": "2024-01-29T13:51:50.275925Z",
     "iopub.status.idle": "2024-01-29T13:51:50.283772Z",
     "shell.execute_reply": "2024-01-29T13:51:50.282711Z"
    },
    "papermill": {
     "duration": 0.034101,
     "end_time": "2024-01-29T13:51:50.286910",
     "exception": false,
     "start_time": "2024-01-29T13:51:50.252809",
     "status": "completed"
    },
    "tags": []
   },
   "outputs": [],
   "source": [
    "def plot_digits(data, row_size):\n",
    "    \"\"\"\n",
    "    Con esta función podremos ver en una cuadrícula una muestra de algunos dígitos que conforman un dataset \n",
    "    \"\"\"\n",
    "    # quitamos la columna label si es que está presente\n",
    "    if data.shape[1] == 785:\n",
    "        data = data.drop('label', axis=1)\n",
    "    data = data.to_numpy()[:36]\n",
    "    # for loop para crear una cuadrícula de shape row_size x row_size\n",
    "    for i in range(len(data)):\n",
    "        ax = plt.subplot(row_size, row_size, i+1)\n",
    "        \n",
    "        digit = data[i]\n",
    "        digit_image = digit.reshape(28, 28)\n",
    "        \n",
    "        plt.imshow(digit_image, cmap=plt.cm.Blues)\n",
    "        plt.axis(\"off\")"
   ]
  },
  {
   "cell_type": "code",
   "execution_count": 17,
   "id": "b0cbe05f",
   "metadata": {
    "execution": {
     "iopub.execute_input": "2024-01-29T13:51:50.328587Z",
     "iopub.status.busy": "2024-01-29T13:51:50.328095Z",
     "iopub.status.idle": "2024-01-29T13:51:52.376343Z",
     "shell.execute_reply": "2024-01-29T13:51:52.373821Z"
    },
    "papermill": {
     "duration": 2.073489,
     "end_time": "2024-01-29T13:51:52.380576",
     "exception": false,
     "start_time": "2024-01-29T13:51:50.307087",
     "status": "completed"
    },
    "tags": []
   },
   "outputs": [
    {
     "data": {
      "image/png": "[encoded data removed]",
      "text/plain": [
       "<Figure size 640x480 with 36 Axes>"
      ]
     },
     "metadata": {},
     "output_type": "display_data"
    }
   ],
   "source": [
    "plot_digits(train, row_size=6)"
   ]
  },
  {
   "cell_type": "code",
   "execution_count": 18,
   "id": "3e3a509d",
   "metadata": {
    "execution": {
     "iopub.execute_input": "2024-01-29T13:51:52.423936Z",
     "iopub.status.busy": "2024-01-29T13:51:52.423428Z",
     "iopub.status.idle": "2024-01-29T13:51:53.895140Z",
     "shell.execute_reply": "2024-01-29T13:51:53.893359Z"
    },
    "papermill": {
     "duration": 1.497366,
     "end_time": "2024-01-29T13:51:53.898381",
     "exception": false,
     "start_time": "2024-01-29T13:51:52.401015",
     "status": "completed"
    },
    "tags": []
   },
   "outputs": [
    {
     "data": {
      "image/png": "[encoded data removed]",
      "text/plain": [
       "<Figure size 640x480 with 36 Axes>"
      ]
     },
     "metadata": {},
     "output_type": "display_data"
    }
   ],
   "source": [
    "plot_digits(test, row_size=6)"
   ]
  },
  {
   "cell_type": "markdown",
   "id": "2e604404",
   "metadata": {
    "papermill": {
     "duration": 0.036569,
     "end_time": "2024-01-29T13:51:53.963177",
     "exception": false,
     "start_time": "2024-01-29T13:51:53.926608",
     "status": "completed"
    },
    "tags": []
   },
   "source": [
    "# Entrenamiento \n",
    "\n",
    "<p style=\"font-size:16px; font-family:verdana; line-height: 1.7em; margin-left: 20px\">   \n",
    "Para entrenar utilizaremos una red neuronal básica, llamada perceptrón multicapa, y haremos uso de una serie de librerías de python para entrenar redes neuronales como lo son Pytorch, y Lightning para ahorrarnos un poco de código. Para poder verificar el correcto funcionamiento del entrenamiento, siempre es conveniente separar los datos en 2 partes, la de train, que se usará para entrenar al modelo, y validación, que permitirá evaluar/validar el modelo, para verificar el correcto funcionamiento del train. En este caso dividiremos los datos con la función train_test_split de sklearn, y crearemos un split de validación del 15% de los datos, además nos valdremos de la clase Dataset de Pytorch que nos permitirá crear los datasets, que luego se utilizarán en el entrenamiento."
   ]
  },
  {
   "cell_type": "code",
   "execution_count": 19,
   "id": "e903f78e",
   "metadata": {
    "execution": {
     "iopub.execute_input": "2024-01-29T13:51:54.023037Z",
     "iopub.status.busy": "2024-01-29T13:51:54.022580Z",
     "iopub.status.idle": "2024-01-29T13:51:54.453212Z",
     "shell.execute_reply": "2024-01-29T13:51:54.451618Z"
    },
    "papermill": {
     "duration": 0.461715,
     "end_time": "2024-01-29T13:51:54.456264",
     "exception": false,
     "start_time": "2024-01-29T13:51:53.994549",
     "status": "completed"
    },
    "tags": []
   },
   "outputs": [],
   "source": [
    "train_split, valid_split = model_selection.train_test_split(train, test_size=.15, shuffle=True, random_state=42)"
   ]
  },
  {
   "cell_type": "code",
   "execution_count": 20,
   "id": "fac4dd53",
   "metadata": {
    "execution": {
     "iopub.execute_input": "2024-01-29T13:51:54.503631Z",
     "iopub.status.busy": "2024-01-29T13:51:54.502243Z",
     "iopub.status.idle": "2024-01-29T13:51:54.808434Z",
     "shell.execute_reply": "2024-01-29T13:51:54.806917Z"
    },
    "papermill": {
     "duration": 0.332636,
     "end_time": "2024-01-29T13:51:54.811401",
     "exception": false,
     "start_time": "2024-01-29T13:51:54.478765",
     "status": "completed"
    },
    "tags": []
   },
   "outputs": [],
   "source": [
    "train_split = train_split.reset_index(drop=True)\n",
    "valid_split = valid_split.reset_index(drop=True)"
   ]
  },
  {
   "cell_type": "code",
   "execution_count": 21,
   "id": "f58393f2",
   "metadata": {
    "execution": {
     "iopub.execute_input": "2024-01-29T13:51:54.854945Z",
     "iopub.status.busy": "2024-01-29T13:51:54.854485Z",
     "iopub.status.idle": "2024-01-29T13:51:54.864037Z",
     "shell.execute_reply": "2024-01-29T13:51:54.862795Z"
    },
    "papermill": {
     "duration": 0.035135,
     "end_time": "2024-01-29T13:51:54.866930",
     "exception": false,
     "start_time": "2024-01-29T13:51:54.831795",
     "status": "completed"
    },
    "tags": []
   },
   "outputs": [
    {
     "data": {
      "text/plain": [
       "((47600, 785), (8400, 785))"
      ]
     },
     "execution_count": 21,
     "metadata": {},
     "output_type": "execute_result"
    }
   ],
   "source": [
    "train_split.shape, valid_split.shape"
   ]
  },
  {
   "cell_type": "markdown",
   "id": "76654726",
   "metadata": {
    "papermill": {
     "duration": 0.022683,
     "end_time": "2024-01-29T13:51:54.912410",
     "exception": false,
     "start_time": "2024-01-29T13:51:54.889727",
     "status": "completed"
    },
    "tags": []
   },
   "source": [
    "<p style=\"font-size:16px; font-family:verdana; line-height: 1.7em; margin-left: 20px\">   \n",
    "Como podemos observar el dataset de train se ha dividido en 2 partes, train y validación, con 47600 y 8400 muestras cada uno de ellos. "
   ]
  },
  {
   "cell_type": "markdown",
   "id": "87fbbdc1",
   "metadata": {
    "papermill": {
     "duration": 0.021108,
     "end_time": "2024-01-29T13:51:54.955156",
     "exception": false,
     "start_time": "2024-01-29T13:51:54.934048",
     "status": "completed"
    },
    "tags": []
   },
   "source": [
    "<p style=\"font-size:16px; font-family:verdana; line-height: 1.7em; margin-left: 20px\"> \n",
    "La clase Dataset de Pytorch necesita contar con 3 métodos o funciones que son, init, len y getitem. Init nos permite inicializar la clase, len conocer el tamaño de dataset, y por último, getitem permite tomar una muestra del dataset. "
   ]
  },
  {
   "cell_type": "code",
   "execution_count": 22,
   "id": "31b82e05",
   "metadata": {
    "execution": {
     "iopub.execute_input": "2024-01-29T13:51:55.000498Z",
     "iopub.status.busy": "2024-01-29T13:51:55.000053Z",
     "iopub.status.idle": "2024-01-29T13:51:55.007316Z",
     "shell.execute_reply": "2024-01-29T13:51:55.006515Z"
    },
    "papermill": {
     "duration": 0.03293,
     "end_time": "2024-01-29T13:51:55.009685",
     "exception": false,
     "start_time": "2024-01-29T13:51:54.976755",
     "status": "completed"
    },
    "tags": []
   },
   "outputs": [],
   "source": [
    "class Dataset(Dataset):\n",
    "    \"\"\"\n",
    "    Toma un dataset, lo divide en imágenes, labels y lo convierte a tensores.\n",
    "    \"\"\"\n",
    "    def __init__(self, dataset):      \n",
    "        self.dataset = dataset\n",
    "        self.labels = dataset['label'] \n",
    "        \n",
    "    def __len__(self):\n",
    "        return len(self.dataset) \n",
    "      \n",
    "    def __getitem__(self, idx):\n",
    "        img = self.dataset.iloc[idx,1:]\n",
    "        img = torch.tensor(img, dtype=torch.float)\n",
    "        label = torch.tensor(self.labels[idx], dtype=torch.long)\n",
    "\n",
    "        return img, label"
   ]
  },
  {
   "cell_type": "code",
   "execution_count": 23,
   "id": "ec1725b4",
   "metadata": {
    "execution": {
     "iopub.execute_input": "2024-01-29T13:51:55.055549Z",
     "iopub.status.busy": "2024-01-29T13:51:55.055119Z",
     "iopub.status.idle": "2024-01-29T13:51:55.062194Z",
     "shell.execute_reply": "2024-01-29T13:51:55.059374Z"
    },
    "papermill": {
     "duration": 0.034342,
     "end_time": "2024-01-29T13:51:55.065464",
     "exception": false,
     "start_time": "2024-01-29T13:51:55.031122",
     "status": "completed"
    },
    "tags": []
   },
   "outputs": [],
   "source": [
    "train_ds = Dataset(train_split)\n",
    "valid_ds = Dataset(valid_split)"
   ]
  },
  {
   "cell_type": "markdown",
   "id": "df867579",
   "metadata": {
    "papermill": {
     "duration": 0.021609,
     "end_time": "2024-01-29T13:51:55.108584",
     "exception": false,
     "start_time": "2024-01-29T13:51:55.086975",
     "status": "completed"
    },
    "tags": []
   },
   "source": [
    "<p style=\"font-size:16px; font-family:verdana; line-height: 1.7em; margin-left: 20px\">   \n",
    "A continuación seleccionaremos unos de los hiperparámetros mas importantes de nuetra red, llamado batch size, el cual nos permite dividir los datos en conjuntos mas pequeños llamados batches, para poder calcular los gradientes de una forma mas eficiente. Este hiperparámetro se puede tunnear, en este caso seleccionaremos un batch_size de tamaño 128, lo que quiere decir que dividiremos los datos de train en aproximadamente 370 batches con 128 observaciones o muestras cada uno. Para los datos de validación dado que no es necesario calcular los gradientes, podemos utilizar un batch size mayor. Por último, para hacer mas rápida la carga de los datos a la hora del entrenamiento, utilizaremos una clase de Pytorch llamada DataLoader."
   ]
  },
  {
   "cell_type": "code",
   "execution_count": 24,
   "id": "5f40de59",
   "metadata": {
    "execution": {
     "iopub.execute_input": "2024-01-29T13:51:55.153983Z",
     "iopub.status.busy": "2024-01-29T13:51:55.153519Z",
     "iopub.status.idle": "2024-01-29T13:51:55.160866Z",
     "shell.execute_reply": "2024-01-29T13:51:55.159716Z"
    },
    "papermill": {
     "duration": 0.033461,
     "end_time": "2024-01-29T13:51:55.164162",
     "exception": false,
     "start_time": "2024-01-29T13:51:55.130701",
     "status": "completed"
    },
    "tags": []
   },
   "outputs": [],
   "source": [
    "batch_size = 128\n",
    "train_loader = DataLoader(train_ds, batch_size, shuffle=True, num_workers=4, pin_memory=True)\n",
    "valid_loader = DataLoader(valid_ds, batch_size*2, num_workers=4, pin_memory=True)"
   ]
  },
  {
   "cell_type": "code",
   "execution_count": 25,
   "id": "ec2d1189",
   "metadata": {
    "execution": {
     "iopub.execute_input": "2024-01-29T13:51:55.212120Z",
     "iopub.status.busy": "2024-01-29T13:51:55.211414Z",
     "iopub.status.idle": "2024-01-29T13:51:55.991524Z",
     "shell.execute_reply": "2024-01-29T13:51:55.989576Z"
    },
    "papermill": {
     "duration": 0.808037,
     "end_time": "2024-01-29T13:51:55.995000",
     "exception": false,
     "start_time": "2024-01-29T13:51:55.186963",
     "status": "completed"
    },
    "tags": []
   },
   "outputs": [],
   "source": [
    "images, labels = next(iter(train_loader))"
   ]
  },
  {
   "cell_type": "code",
   "execution_count": 26,
   "id": "c8119348",
   "metadata": {
    "execution": {
     "iopub.execute_input": "2024-01-29T13:51:56.045389Z",
     "iopub.status.busy": "2024-01-29T13:51:56.044787Z",
     "iopub.status.idle": "2024-01-29T13:51:56.055771Z",
     "shell.execute_reply": "2024-01-29T13:51:56.054187Z"
    },
    "papermill": {
     "duration": 0.042016,
     "end_time": "2024-01-29T13:51:56.059643",
     "exception": false,
     "start_time": "2024-01-29T13:51:56.017627",
     "status": "completed"
    },
    "tags": []
   },
   "outputs": [
    {
     "data": {
      "text/plain": [
       "(torch.Size([128, 784]), torch.Size([128]))"
      ]
     },
     "execution_count": 26,
     "metadata": {},
     "output_type": "execute_result"
    }
   ],
   "source": [
    "images.shape, labels.shape"
   ]
  },
  {
   "cell_type": "markdown",
   "id": "c40f42f3",
   "metadata": {
    "papermill": {
     "duration": 0.020926,
     "end_time": "2024-01-29T13:51:56.105375",
     "exception": false,
     "start_time": "2024-01-29T13:51:56.084449",
     "status": "completed"
    },
    "tags": []
   },
   "source": [
    "<p style=\"font-size:16px; font-family:verdana; line-height: 1.7em; margin-left: 20px\">\n",
    "Siempre es bueno chequear que el DataLoader haya sido creado correctamente, en este caso podemos ver que las imágenes tienen una shape de 128 (tamaño del batch) x 784 (columnas de dígitos) y las labels son un array de 128 elementos. Por lo que podemos decir que hemos hecho bien el proceso."
   ]
  },
  {
   "attachments": {
    "e95f7ec0-8ff7-488b-8c8c-8378d7e000c4.png": {
     "image/png": "[encoded data removed]"
    }
   },
   "cell_type": "markdown",
   "id": "d04c94c3",
   "metadata": {
    "papermill": {
     "duration": 0.024997,
     "end_time": "2024-01-29T13:51:56.151929",
     "exception": false,
     "start_time": "2024-01-29T13:51:56.126932",
     "status": "completed"
    },
    "tags": []
   },
   "source": [
    "<p style=\"font-size:16px; font-family:verdana; line-height: 1.7em; margin-left: 20px\">   \n",
    "Por último, crearemos nuestra red neuronal, que como mencionamos previamente, se trata de un perceptrón multicapa. El mismo está compuesto por 2 capas lineales (linear1 y linear2), una función de pérdida (loss_fn), necesaria para optimizar el modelo (CrossEntropyLoss), un optimizador y learning rate, necesarios para actualizar los parámetros de nuestra red haciendo mínimos ajustes luego de cada iteración, y por último, una función de activación, la cual se encarga de definir si se \"activa\" o no la neurona a la hora del cálculo de los gradientes, de manera de reducir la simplicidad del cómputo de los mismos. En este caso usaremos una denominada ReLU, cuya fórmula es a = max(0, z), la cual básicamente elimina cualquier valor negativo que tome z.\n",
    "\n",
    "    \n",
    " ![image.png](attachment:e95f7ec0-8ff7-488b-8c8c-8378d7e000c4.png)"
   ]
  },
  {
   "cell_type": "code",
   "execution_count": 27,
   "id": "17adbbd4",
   "metadata": {
    "execution": {
     "iopub.execute_input": "2024-01-29T13:51:56.201990Z",
     "iopub.status.busy": "2024-01-29T13:51:56.201529Z",
     "iopub.status.idle": "2024-01-29T13:51:56.216104Z",
     "shell.execute_reply": "2024-01-29T13:51:56.214308Z"
    },
    "papermill": {
     "duration": 0.042768,
     "end_time": "2024-01-29T13:51:56.219147",
     "exception": false,
     "start_time": "2024-01-29T13:51:56.176379",
     "status": "completed"
    },
    "tags": []
   },
   "outputs": [],
   "source": [
    "class Module(L.LightningModule):\n",
    "    def __init__(self, input_size, hidden_size, num_classes):\n",
    "        super().__init__()\n",
    "        self.linear1 = nn.Linear(input_size, hidden_size)\n",
    "        self.linear2 = nn.Linear(hidden_size, num_classes)\n",
    "\n",
    "        self.loss_fn = torch.nn.CrossEntropyLoss()\n",
    "        self.metric = lambda y_hat, y: torch.sum(torch.argmax(y_hat, dim=1) == y).item() / y.shape[0]\n",
    "\n",
    "    def configure_optimizers(self):\n",
    "        return torch.optim.Adam(self.parameters(), lr=1e-3)\n",
    "\n",
    "    def forward(self, batch):\n",
    "        out = self.linear1(batch)\n",
    "        out = F.relu(out)\n",
    "        out = self.linear2(out)\n",
    "        return out\n",
    "\n",
    "    def training_step(self, batch, batch_idx):\n",
    "        x, y = batch\n",
    "        y_hat = self(x)\n",
    "        loss = self.loss_fn(y_hat, y)\n",
    "        self.log('train_loss', loss)\n",
    "        self.log('train_acc', self.metric(y_hat, y), prog_bar=True)\n",
    "        return loss\n",
    "\n",
    "    def validation_step(self, batch, batch_idx):\n",
    "        x, y = batch\n",
    "        y_hat = self(x)\n",
    "        loss = self.loss_fn(y_hat, y)\n",
    "        self.log('val_loss', loss)\n",
    "        self.log('val_acc',self.metric(y_hat, y), prog_bar=True)"
   ]
  },
  {
   "cell_type": "code",
   "execution_count": 28,
   "id": "1906c0b6",
   "metadata": {
    "execution": {
     "iopub.execute_input": "2024-01-29T13:51:56.266214Z",
     "iopub.status.busy": "2024-01-29T13:51:56.265558Z",
     "iopub.status.idle": "2024-01-29T13:51:56.602213Z",
     "shell.execute_reply": "2024-01-29T13:51:56.600892Z"
    },
    "papermill": {
     "duration": 0.364551,
     "end_time": "2024-01-29T13:51:56.605407",
     "exception": false,
     "start_time": "2024-01-29T13:51:56.240856",
     "status": "completed"
    },
    "tags": []
   },
   "outputs": [],
   "source": [
    "input_size = train.iloc[:,1:].shape[1] # El input size son nuestras columnas con dígitos\n",
    "hidden_size = 128 # hidden size puede ser tomar el valor que querramos\n",
    "classes = len(train.label.value_counts()) # classes son los dígitos a predecir\n",
    "\n",
    "module = Module(input_size, hidden_size, classes)"
   ]
  },
  {
   "cell_type": "code",
   "execution_count": 29,
   "id": "747da320",
   "metadata": {
    "execution": {
     "iopub.execute_input": "2024-01-29T13:51:56.653937Z",
     "iopub.status.busy": "2024-01-29T13:51:56.652732Z",
     "iopub.status.idle": "2024-01-29T13:51:56.664031Z",
     "shell.execute_reply": "2024-01-29T13:51:56.662423Z"
    },
    "papermill": {
     "duration": 0.039239,
     "end_time": "2024-01-29T13:51:56.667092",
     "exception": false,
     "start_time": "2024-01-29T13:51:56.627853",
     "status": "completed"
    },
    "tags": []
   },
   "outputs": [
    {
     "data": {
      "text/plain": [
       "Module(\n",
       "  (linear1): Linear(in_features=784, out_features=128, bias=True)\n",
       "  (linear2): Linear(in_features=128, out_features=10, bias=True)\n",
       "  (loss_fn): CrossEntropyLoss()\n",
       ")"
      ]
     },
     "execution_count": 29,
     "metadata": {},
     "output_type": "execute_result"
    }
   ],
   "source": [
    "module"
   ]
  },
  {
   "cell_type": "code",
   "execution_count": 30,
   "id": "400edfa7",
   "metadata": {
    "execution": {
     "iopub.execute_input": "2024-01-29T13:51:56.712976Z",
     "iopub.status.busy": "2024-01-29T13:51:56.712470Z",
     "iopub.status.idle": "2024-01-29T13:51:56.718866Z",
     "shell.execute_reply": "2024-01-29T13:51:56.717515Z"
    },
    "papermill": {
     "duration": 0.032627,
     "end_time": "2024-01-29T13:51:56.721287",
     "exception": false,
     "start_time": "2024-01-29T13:51:56.688660",
     "status": "completed"
    },
    "tags": []
   },
   "outputs": [],
   "source": [
    "device = 'cuda' if torch.cuda.is_available() else 'cpu' "
   ]
  },
  {
   "cell_type": "code",
   "execution_count": 31,
   "id": "18e891f3",
   "metadata": {
    "execution": {
     "iopub.execute_input": "2024-01-29T13:51:56.773334Z",
     "iopub.status.busy": "2024-01-29T13:51:56.772189Z",
     "iopub.status.idle": "2024-01-29T13:55:09.103351Z",
     "shell.execute_reply": "2024-01-29T13:55:09.101274Z"
    },
    "papermill": {
     "duration": 192.360994,
     "end_time": "2024-01-29T13:55:09.106787",
     "exception": false,
     "start_time": "2024-01-29T13:51:56.745793",
     "status": "completed"
    },
    "tags": []
   },
   "outputs": [
    {
     "name": "stderr",
     "output_type": "stream",
     "text": [
      "GPU available: False, used: False\n",
      "TPU available: False, using: 0 TPU cores\n",
      "IPU available: False, using: 0 IPUs\n",
      "HPU available: False, using: 0 HPUs\n",
      "Missing logger folder: /home/juan/Desktop/olympo/ipynbs/challenges/mnist/lightning_logs\n",
      "\n",
      "  | Name    | Type             | Params\n",
      "---------------------------------------------\n",
      "0 | linear1 | Linear           | 100 K \n",
      "1 | linear2 | Linear           | 1.3 K \n",
      "2 | loss_fn | CrossEntropyLoss | 0     \n",
      "---------------------------------------------\n",
      "101 K     Trainable params\n",
      "0         Non-trainable params\n",
      "101 K     Total params\n",
      "0.407     Total estimated model params size (MB)\n"
     ]
    },
    {
     "data": {
      "application/vnd.jupyter.widget-view+json": {
       "model_id": "69972a5b5de04e2c83eb80eeec45690c",
       "version_major": 2,
       "version_minor": 0
      },
      "text/plain": [
       "Sanity Checking: |          | 0/? [00:00<?, ?it/s]"
      ]
     },
     "metadata": {},
     "output_type": "display_data"
    },
    {
     "data": {
      "application/vnd.jupyter.widget-view+json": {
       "model_id": "d3f9fcc2140e45138ff9ad3c8ae9c0fd",
       "version_major": 2,
       "version_minor": 0
      },
      "text/plain": [
       "Training: |          | 0/? [00:00<?, ?it/s]"
      ]
     },
     "metadata": {},
     "output_type": "display_data"
    },
    {
     "data": {
      "application/vnd.jupyter.widget-view+json": {
       "model_id": "f66a591b7f9a4921aa60348b097d7a62",
       "version_major": 2,
       "version_minor": 0
      },
      "text/plain": [
       "Validation: |          | 0/? [00:00<?, ?it/s]"
      ]
     },
     "metadata": {},
     "output_type": "display_data"
    },
    {
     "data": {
      "application/vnd.jupyter.widget-view+json": {
       "model_id": "9385bdc9407141ae9ad34481145de8a5",
       "version_major": 2,
       "version_minor": 0
      },
      "text/plain": [
       "Validation: |          | 0/? [00:00<?, ?it/s]"
      ]
     },
     "metadata": {},
     "output_type": "display_data"
    },
    {
     "data": {
      "application/vnd.jupyter.widget-view+json": {
       "model_id": "8b0cbd05b3e349288ec64ab2d3ef1af1",
       "version_major": 2,
       "version_minor": 0
      },
      "text/plain": [
       "Validation: |          | 0/? [00:00<?, ?it/s]"
      ]
     },
     "metadata": {},
     "output_type": "display_data"
    },
    {
     "data": {
      "application/vnd.jupyter.widget-view+json": {
       "model_id": "3c92ca396ded41d2b9a12c2bbb78a34d",
       "version_major": 2,
       "version_minor": 0
      },
      "text/plain": [
       "Validation: |          | 0/? [00:00<?, ?it/s]"
      ]
     },
     "metadata": {},
     "output_type": "display_data"
    },
    {
     "data": {
      "application/vnd.jupyter.widget-view+json": {
       "model_id": "950f60ee60e5432f8504acfa0ba5ed74",
       "version_major": 2,
       "version_minor": 0
      },
      "text/plain": [
       "Validation: |          | 0/? [00:00<?, ?it/s]"
      ]
     },
     "metadata": {},
     "output_type": "display_data"
    },
    {
     "name": "stderr",
     "output_type": "stream",
     "text": [
      "`Trainer.fit` stopped: `max_epochs=5` reached.\n"
     ]
    }
   ],
   "source": [
    "trainer = L.Trainer(\n",
    "    accelerator=device,\n",
    "    devices=1,\n",
    "    max_epochs=5,\n",
    ")\n",
    "\n",
    "trainer.fit(module, train_loader, valid_loader)"
   ]
  },
  {
   "cell_type": "markdown",
   "id": "463e5883",
   "metadata": {
    "papermill": {
     "duration": 0.024584,
     "end_time": "2024-01-29T13:55:09.156725",
     "exception": false,
     "start_time": "2024-01-29T13:55:09.132141",
     "status": "completed"
    },
    "tags": []
   },
   "source": [
    "<p style=\"font-size:16px; font-family:verdana; line-height: 1.7em; margin-left: 20px\">   \n",
    "Como podemos observar a pesar de que utilizamos una red neuronal muy simple, y sólo la hemos entrenado por 5 epochs, la misma ha sido capaz de predecir los dígitos de validación con una presición del 0.96. Nada mal."
   ]
  },
  {
   "cell_type": "markdown",
   "id": "41faa966",
   "metadata": {
    "papermill": {
     "duration": 0.024869,
     "end_time": "2024-01-29T13:55:09.210726",
     "exception": false,
     "start_time": "2024-01-29T13:55:09.185857",
     "status": "completed"
    },
    "tags": []
   },
   "source": [
    "#  Predicciones "
   ]
  },
  {
   "cell_type": "markdown",
   "id": "53a48a33",
   "metadata": {},
   "source": [
    "Una vez entrenado el modelo podemos usarlo para generar las predicciones con los datos de test. El formato debe coincidir con el de la `sample_submission.csv`."
   ]
  },
  {
   "cell_type": "code",
   "execution_count": 46,
   "id": "8c8307ab",
   "metadata": {},
   "outputs": [
    {
     "data": {
      "text/html": [
       "<div>\n",
       "<style scoped>\n",
       "    .dataframe tbody tr th:only-of-type {\n",
       "        vertical-align: middle;\n",
       "    }\n",
       "\n",
       "    .dataframe tbody tr th {\n",
       "        vertical-align: top;\n",
       "    }\n",
       "\n",
       "    .dataframe thead th {\n",
       "        text-align: right;\n",
       "    }\n",
       "</style>\n",
       "<table border=\"1\" class=\"dataframe\">\n",
       "  <thead>\n",
       "    <tr style=\"text-align: right;\">\n",
       "      <th></th>\n",
       "      <th>label</th>\n",
       "    </tr>\n",
       "  </thead>\n",
       "  <tbody>\n",
       "    <tr>\n",
       "      <th>0</th>\n",
       "      <td>0</td>\n",
       "    </tr>\n",
       "    <tr>\n",
       "      <th>1</th>\n",
       "      <td>0</td>\n",
       "    </tr>\n",
       "    <tr>\n",
       "      <th>2</th>\n",
       "      <td>0</td>\n",
       "    </tr>\n",
       "    <tr>\n",
       "      <th>3</th>\n",
       "      <td>0</td>\n",
       "    </tr>\n",
       "    <tr>\n",
       "      <th>4</th>\n",
       "      <td>0</td>\n",
       "    </tr>\n",
       "    <tr>\n",
       "      <th>...</th>\n",
       "      <td>...</td>\n",
       "    </tr>\n",
       "    <tr>\n",
       "      <th>13995</th>\n",
       "      <td>0</td>\n",
       "    </tr>\n",
       "    <tr>\n",
       "      <th>13996</th>\n",
       "      <td>0</td>\n",
       "    </tr>\n",
       "    <tr>\n",
       "      <th>13997</th>\n",
       "      <td>0</td>\n",
       "    </tr>\n",
       "    <tr>\n",
       "      <th>13998</th>\n",
       "      <td>0</td>\n",
       "    </tr>\n",
       "    <tr>\n",
       "      <th>13999</th>\n",
       "      <td>0</td>\n",
       "    </tr>\n",
       "  </tbody>\n",
       "</table>\n",
       "<p>14000 rows × 1 columns</p>\n",
       "</div>"
      ],
      "text/plain": [
       "       label\n",
       "0          0\n",
       "1          0\n",
       "2          0\n",
       "3          0\n",
       "4          0\n",
       "...      ...\n",
       "13995      0\n",
       "13996      0\n",
       "13997      0\n",
       "13998      0\n",
       "13999      0\n",
       "\n",
       "[14000 rows x 1 columns]"
      ]
     },
     "execution_count": 46,
     "metadata": {},
     "output_type": "execute_result"
    }
   ],
   "source": [
    "sample_submission = pd.read_csv(path/'sample_submission.csv')\n",
    "sample_submission"
   ]
  },
  {
   "cell_type": "markdown",
   "id": "1e4adca3",
   "metadata": {},
   "source": [
    "El índice del `DataFrame` coincide con el de la imagen en los datos de test, y la columna `label` es la predicción del modelo."
   ]
  },
  {
   "cell_type": "code",
   "execution_count": 47,
   "id": "60cc105b",
   "metadata": {
    "execution": {
     "iopub.execute_input": "2024-01-29T13:55:09.269109Z",
     "iopub.status.busy": "2024-01-29T13:55:09.268265Z",
     "iopub.status.idle": "2024-01-29T13:55:09.325010Z",
     "shell.execute_reply": "2024-01-29T13:55:09.323733Z"
    },
    "papermill": {
     "duration": 0.09154,
     "end_time": "2024-01-29T13:55:09.328266",
     "exception": false,
     "start_time": "2024-01-29T13:55:09.236726",
     "status": "completed"
    },
    "tags": []
   },
   "outputs": [],
   "source": [
    "test_split = test.copy()"
   ]
  },
  {
   "cell_type": "code",
   "execution_count": 48,
   "id": "5f753ce9",
   "metadata": {
    "execution": {
     "iopub.execute_input": "2024-01-29T13:55:09.384232Z",
     "iopub.status.busy": "2024-01-29T13:55:09.383814Z",
     "iopub.status.idle": "2024-01-29T13:55:09.391268Z",
     "shell.execute_reply": "2024-01-29T13:55:09.390033Z"
    },
    "papermill": {
     "duration": 0.038749,
     "end_time": "2024-01-29T13:55:09.393818",
     "exception": false,
     "start_time": "2024-01-29T13:55:09.355069",
     "status": "completed"
    },
    "tags": []
   },
   "outputs": [],
   "source": [
    "test_split['label'] = 0 # como en test no tenemos una columna label creamos una y le asignamos un valor, 0 en este caso "
   ]
  },
  {
   "cell_type": "code",
   "execution_count": 49,
   "id": "d990e8b3",
   "metadata": {
    "execution": {
     "iopub.execute_input": "2024-01-29T13:55:09.447025Z",
     "iopub.status.busy": "2024-01-29T13:55:09.446575Z",
     "iopub.status.idle": "2024-01-29T13:55:09.452727Z",
     "shell.execute_reply": "2024-01-29T13:55:09.451572Z"
    },
    "papermill": {
     "duration": 0.03576,
     "end_time": "2024-01-29T13:55:09.455190",
     "exception": false,
     "start_time": "2024-01-29T13:55:09.419430",
     "status": "completed"
    },
    "tags": []
   },
   "outputs": [],
   "source": [
    "test_ds = Dataset(test_split)"
   ]
  },
  {
   "cell_type": "code",
   "execution_count": 50,
   "id": "36500014",
   "metadata": {
    "execution": {
     "iopub.execute_input": "2024-01-29T13:55:09.511159Z",
     "iopub.status.busy": "2024-01-29T13:55:09.510740Z",
     "iopub.status.idle": "2024-01-29T13:55:09.516334Z",
     "shell.execute_reply": "2024-01-29T13:55:09.515170Z"
    },
    "papermill": {
     "duration": 0.036977,
     "end_time": "2024-01-29T13:55:09.519200",
     "exception": false,
     "start_time": "2024-01-29T13:55:09.482223",
     "status": "completed"
    },
    "tags": []
   },
   "outputs": [],
   "source": [
    "test_loader = DataLoader(test_ds, batch_size*2, num_workers=2, pin_memory=True)"
   ]
  },
  {
   "cell_type": "code",
   "execution_count": 54,
   "id": "e8a58347",
   "metadata": {
    "execution": {
     "iopub.execute_input": "2024-01-29T13:55:09.571559Z",
     "iopub.status.busy": "2024-01-29T13:55:09.570941Z",
     "iopub.status.idle": "2024-01-29T13:55:09.579836Z",
     "shell.execute_reply": "2024-01-29T13:55:09.578882Z"
    },
    "papermill": {
     "duration": 0.037382,
     "end_time": "2024-01-29T13:55:09.582261",
     "exception": false,
     "start_time": "2024-01-29T13:55:09.544879",
     "status": "completed"
    },
    "tags": []
   },
   "outputs": [],
   "source": [
    "def inference(model, device):\n",
    "    \"\"\"\n",
    "    Toma un modelo, permite hacer inferencia con él, devuelve una lista con id y label para cada predicción.\n",
    "    \"\"\"\n",
    "    submission = []\n",
    "    model.to(device)\n",
    "    # como estamos por hacer una inferencia, no necesitamos calcular gradientes, lo hacemos con torch.no_grad()\n",
    "    with torch.no_grad():\n",
    "        # ponemos al modelo en modo evaluación\n",
    "        model.eval()\n",
    "        # for loop para predecir todo el test_dataloader\n",
    "        for images, _ in tqdm(test_loader):\n",
    "            logits = model(images.to(device))\n",
    "            preds = torch.exp(logits)\n",
    "            top_p, top_class = preds.topk(1, dim=1)\n",
    "\n",
    "            # appendeo de predicciones a submission con su correcpondiente id\n",
    "            for prediction in top_class:\n",
    "                submission.append(prediction.item())\n",
    "                \n",
    "    return submission"
   ]
  },
  {
   "cell_type": "code",
   "execution_count": 55,
   "id": "15c580ca",
   "metadata": {
    "execution": {
     "iopub.execute_input": "2024-01-29T13:55:09.632719Z",
     "iopub.status.busy": "2024-01-29T13:55:09.632342Z",
     "iopub.status.idle": "2024-01-29T13:55:20.607241Z",
     "shell.execute_reply": "2024-01-29T13:55:20.605591Z"
    },
    "papermill": {
     "duration": 11.004231,
     "end_time": "2024-01-29T13:55:20.611408",
     "exception": false,
     "start_time": "2024-01-29T13:55:09.607177",
     "status": "completed"
    },
    "tags": []
   },
   "outputs": [
    {
     "name": "stderr",
     "output_type": "stream",
     "text": [
      "100%|██████████| 55/55 [00:04<00:00, 13.66it/s]\n"
     ]
    }
   ],
   "source": [
    "submission = inference(module, device)"
   ]
  },
  {
   "cell_type": "code",
   "execution_count": 56,
   "id": "fecc16c0",
   "metadata": {
    "execution": {
     "iopub.execute_input": "2024-01-29T13:55:20.671414Z",
     "iopub.status.busy": "2024-01-29T13:55:20.670845Z",
     "iopub.status.idle": "2024-01-29T13:55:20.686268Z",
     "shell.execute_reply": "2024-01-29T13:55:20.684652Z"
    },
    "papermill": {
     "duration": 0.048488,
     "end_time": "2024-01-29T13:55:20.689194",
     "exception": false,
     "start_time": "2024-01-29T13:55:20.640706",
     "status": "completed"
    },
    "tags": []
   },
   "outputs": [
    {
     "data": {
      "text/html": [
       "<div>\n",
       "<style scoped>\n",
       "    .dataframe tbody tr th:only-of-type {\n",
       "        vertical-align: middle;\n",
       "    }\n",
       "\n",
       "    .dataframe tbody tr th {\n",
       "        vertical-align: top;\n",
       "    }\n",
       "\n",
       "    .dataframe thead th {\n",
       "        text-align: right;\n",
       "    }\n",
       "</style>\n",
       "<table border=\"1\" class=\"dataframe\">\n",
       "  <thead>\n",
       "    <tr style=\"text-align: right;\">\n",
       "      <th></th>\n",
       "      <th>label</th>\n",
       "    </tr>\n",
       "  </thead>\n",
       "  <tbody>\n",
       "    <tr>\n",
       "      <th>0</th>\n",
       "      <td>7</td>\n",
       "    </tr>\n",
       "    <tr>\n",
       "      <th>1</th>\n",
       "      <td>3</td>\n",
       "    </tr>\n",
       "    <tr>\n",
       "      <th>2</th>\n",
       "      <td>1</td>\n",
       "    </tr>\n",
       "    <tr>\n",
       "      <th>3</th>\n",
       "      <td>1</td>\n",
       "    </tr>\n",
       "    <tr>\n",
       "      <th>4</th>\n",
       "      <td>2</td>\n",
       "    </tr>\n",
       "    <tr>\n",
       "      <th>...</th>\n",
       "      <td>...</td>\n",
       "    </tr>\n",
       "    <tr>\n",
       "      <th>13995</th>\n",
       "      <td>5</td>\n",
       "    </tr>\n",
       "    <tr>\n",
       "      <th>13996</th>\n",
       "      <td>2</td>\n",
       "    </tr>\n",
       "    <tr>\n",
       "      <th>13997</th>\n",
       "      <td>6</td>\n",
       "    </tr>\n",
       "    <tr>\n",
       "      <th>13998</th>\n",
       "      <td>2</td>\n",
       "    </tr>\n",
       "    <tr>\n",
       "      <th>13999</th>\n",
       "      <td>8</td>\n",
       "    </tr>\n",
       "  </tbody>\n",
       "</table>\n",
       "<p>14000 rows × 1 columns</p>\n",
       "</div>"
      ],
      "text/plain": [
       "       label\n",
       "0          7\n",
       "1          3\n",
       "2          1\n",
       "3          1\n",
       "4          2\n",
       "...      ...\n",
       "13995      5\n",
       "13996      2\n",
       "13997      6\n",
       "13998      2\n",
       "13999      8\n",
       "\n",
       "[14000 rows x 1 columns]"
      ]
     },
     "execution_count": 56,
     "metadata": {},
     "output_type": "execute_result"
    }
   ],
   "source": [
    "submission_df = pd.DataFrame(submission, columns=['label'])\n",
    "submission_df"
   ]
  },
  {
   "cell_type": "code",
   "execution_count": 57,
   "id": "082debfe",
   "metadata": {
    "execution": {
     "iopub.execute_input": "2024-01-29T13:55:20.826112Z",
     "iopub.status.busy": "2024-01-29T13:55:20.824441Z",
     "iopub.status.idle": "2024-01-29T13:55:20.869121Z",
     "shell.execute_reply": "2024-01-29T13:55:20.868175Z"
    },
    "papermill": {
     "duration": 0.076702,
     "end_time": "2024-01-29T13:55:20.871755",
     "exception": false,
     "start_time": "2024-01-29T13:55:20.795053",
     "status": "completed"
    },
    "tags": []
   },
   "outputs": [],
   "source": [
    "submission_df.to_csv('submission.csv', index=False) # exportamos el submission dataframe como csv y nos aseguramos de quitar el índice"
   ]
  },
  {
   "cell_type": "markdown",
   "id": "f5ebc723",
   "metadata": {},
   "source": [
    "El archivo resultante `submission.csv` ya está listo para ser usado en la competición."
   ]
  }
 ],
 "metadata": {
  "kaggle": {
   "accelerator": "none",
   "dataSources": [
    {
     "datasetId": 3871557,
     "sourceId": 7505901,
     "sourceType": "datasetVersion"
    }
   ],
   "dockerImageVersionId": 30635,
   "isGpuEnabled": false,
   "isInternetEnabled": true,
   "language": "python",
   "sourceType": "notebook"
  },
  "kernelspec": {
   "display_name": "Python 3",
   "language": "python",
   "name": "python3"
  },
  "language_info": {
   "codemirror_mode": {
    "name": "ipython",
    "version": 3
   },
   "file_extension": ".py",
   "mimetype": "text/x-python",
   "name": "python",
   "nbconvert_exporter": "python",
   "pygments_lexer": "ipython3",
   "version": "3.8.18"
  },
  "papermill": {
   "default_parameters": {},
   "duration": 268.924957,
   "end_time": "2024-01-29T13:55:23.625492",
   "environment_variables": {},
   "exception": null,
   "input_path": "__notebook__.ipynb",
   "output_path": "__notebook__.ipynb",
   "parameters": {},
   "start_time": "2024-01-29T13:50:54.700535",
   "version": "2.4.0"
  },
  "widgets": {
   "application/vnd.jupyter.widget-state+json": {
    "state": {
     "02c1d223144f445e948cfa4864f89caf": {
      "model_module": "@jupyter-widgets/controls",
      "model_module_version": "1.5.0",
      "model_name": "FloatProgressModel",
      "state": {
       "_dom_classes": [],
       "_model_module": "@jupyter-widgets/controls",
       "_model_module_version": "1.5.0",
       "_model_name": "FloatProgressModel",
       "_view_count": null,
       "_view_module": "@jupyter-widgets/controls",
       "_view_module_version": "1.5.0",
       "_view_name": "ProgressView",
       "bar_style": "",
       "description": "",
       "description_tooltip": null,
       "layout": "IPY_MODEL_30d7edafae9a4487ab3224e2217f133c",
       "max": 33,
       "min": 0,
       "orientation": "horizontal",
       "style": "IPY_MODEL_901d64c8b02948cd9b83a3887a94bb2a",
       "value": 33
      }
     },
     "0619a76f702245e6bbf87485f3701f8b": {
      "model_module": "@jupyter-widgets/base",
      "model_module_version": "1.2.0",
      "model_name": "LayoutModel",
      "state": {
       "_model_module": "@jupyter-widgets/base",
       "_model_module_version": "1.2.0",
       "_model_name": "LayoutModel",
       "_view_count": null,
       "_view_module": "@jupyter-widgets/base",
       "_view_module_version": "1.2.0",
       "_view_name": "LayoutView",
       "align_content": null,
       "align_items": null,
       "align_self": null,
       "border": null,
       "bottom": null,
       "display": null,
       "flex": "2",
       "flex_flow": null,
       "grid_area": null,
       "grid_auto_columns": null,
       "grid_auto_flow": null,
       "grid_auto_rows": null,
       "grid_column": null,
       "grid_gap": null,
       "grid_row": null,
       "grid_template_areas": null,
       "grid_template_columns": null,
       "grid_template_rows": null,
       "height": null,
       "justify_content": null,
       "justify_items": null,
       "left": null,
       "margin": null,
       "max_height": null,
       "max_width": null,
       "min_height": null,
       "min_width": null,
       "object_fit": null,
       "object_position": null,
       "order": null,
       "overflow": null,
       "overflow_x": null,
       "overflow_y": null,
       "padding": null,
       "right": null,
       "top": null,
       "visibility": null,
       "width": null
      }
     },
     "08769c90095c41acafa47fbd31deaff6": {
      "model_module": "@jupyter-widgets/base",
      "model_module_version": "1.2.0",
      "model_name": "LayoutModel",
      "state": {
       "_model_module": "@jupyter-widgets/base",
       "_model_module_version": "1.2.0",
       "_model_name": "LayoutModel",
       "_view_count": null,
       "_view_module": "@jupyter-widgets/base",
       "_view_module_version": "1.2.0",
       "_view_name": "LayoutView",
       "align_content": null,
       "align_items": null,
       "align_self": null,
       "border": null,
       "bottom": null,
       "display": "inline-flex",
       "flex": null,
       "flex_flow": "row wrap",
       "grid_area": null,
       "grid_auto_columns": null,
       "grid_auto_flow": null,
       "grid_auto_rows": null,
       "grid_column": null,
       "grid_gap": null,
       "grid_row": null,
       "grid_template_areas": null,
       "grid_template_columns": null,
       "grid_template_rows": null,
       "height": null,
       "justify_content": null,
       "justify_items": null,
       "left": null,
       "margin": null,
       "max_height": null,
       "max_width": null,
       "min_height": null,
       "min_width": null,
       "object_fit": null,
       "object_position": null,
       "order": null,
       "overflow": null,
       "overflow_x": null,
       "overflow_y": null,
       "padding": null,
       "right": null,
       "top": null,
       "visibility": "hidden",
       "width": "100%"
      }
     },
     "0935c6a4c6734e109243ebe4e21c5a59": {
      "model_module": "@jupyter-widgets/controls",
      "model_module_version": "1.5.0",
      "model_name": "DescriptionStyleModel",
      "state": {
       "_model_module": "@jupyter-widgets/controls",
       "_model_module_version": "1.5.0",
       "_model_name": "DescriptionStyleModel",
       "_view_count": null,
       "_view_module": "@jupyter-widgets/base",
       "_view_module_version": "1.2.0",
       "_view_name": "StyleView",
       "description_width": ""
      }
     },
     "0c886038a5684f598bf2e74e71425833": {
      "model_module": "@jupyter-widgets/controls",
      "model_module_version": "1.5.0",
      "model_name": "HTMLModel",
      "state": {
       "_dom_classes": [],
       "_model_module": "@jupyter-widgets/controls",
       "_model_module_version": "1.5.0",
       "_model_name": "HTMLModel",
       "_view_count": null,
       "_view_module": "@jupyter-widgets/controls",
       "_view_module_version": "1.5.0",
       "_view_name": "HTMLView",
       "description": "",
       "description_tooltip": null,
       "layout": "IPY_MODEL_5a374bb47d6c4d80bc6b917912a63d60",
       "placeholder": "​",
       "style": "IPY_MODEL_882ab47ed4484e1d9bd6074b0716fc91",
       "value": "Validation DataLoader 0: 100%"
      }
     },
     "1580a3f782f44d3b874556ef1aa63aeb": {
      "model_module": "@jupyter-widgets/base",
      "model_module_version": "1.2.0",
      "model_name": "LayoutModel",
      "state": {
       "_model_module": "@jupyter-widgets/base",
       "_model_module_version": "1.2.0",
       "_model_name": "LayoutModel",
       "_view_count": null,
       "_view_module": "@jupyter-widgets/base",
       "_view_module_version": "1.2.0",
       "_view_name": "LayoutView",
       "align_content": null,
       "align_items": null,
       "align_self": null,
       "border": null,
       "bottom": null,
       "display": null,
       "flex": null,
       "flex_flow": null,
       "grid_area": null,
       "grid_auto_columns": null,
       "grid_auto_flow": null,
       "grid_auto_rows": null,
       "grid_column": null,
       "grid_gap": null,
       "grid_row": null,
       "grid_template_areas": null,
       "grid_template_columns": null,
       "grid_template_rows": null,
       "height": null,
       "justify_content": null,
       "justify_items": null,
       "left": null,
       "margin": null,
       "max_height": null,
       "max_width": null,
       "min_height": null,
       "min_width": null,
       "object_fit": null,
       "object_position": null,
       "order": null,
       "overflow": null,
       "overflow_x": null,
       "overflow_y": null,
       "padding": null,
       "right": null,
       "top": null,
       "visibility": null,
       "width": null
      }
     },
     "15d68c9a6ba149db87e5b97b028f9677": {
      "model_module": "@jupyter-widgets/base",
      "model_module_version": "1.2.0",
      "model_name": "LayoutModel",
      "state": {
       "_model_module": "@jupyter-widgets/base",
       "_model_module_version": "1.2.0",
       "_model_name": "LayoutModel",
       "_view_count": null,
       "_view_module": "@jupyter-widgets/base",
       "_view_module_version": "1.2.0",
       "_view_name": "LayoutView",
       "align_content": null,
       "align_items": null,
       "align_self": null,
       "border": null,
       "bottom": null,
       "display": null,
       "flex": null,
       "flex_flow": null,
       "grid_area": null,
       "grid_auto_columns": null,
       "grid_auto_flow": null,
       "grid_auto_rows": null,
       "grid_column": null,
       "grid_gap": null,
       "grid_row": null,
       "grid_template_areas": null,
       "grid_template_columns": null,
       "grid_template_rows": null,
       "height": null,
       "justify_content": null,
       "justify_items": null,
       "left": null,
       "margin": null,
       "max_height": null,
       "max_width": null,
       "min_height": null,
       "min_width": null,
       "object_fit": null,
       "object_position": null,
       "order": null,
       "overflow": null,
       "overflow_x": null,
       "overflow_y": null,
       "padding": null,
       "right": null,
       "top": null,
       "visibility": null,
       "width": null
      }
     },
     "1be1a129d11f429bb2ab4216c997efde": {
      "model_module": "@jupyter-widgets/controls",
      "model_module_version": "1.5.0",
      "model_name": "DescriptionStyleModel",
      "state": {
       "_model_module": "@jupyter-widgets/controls",
       "_model_module_version": "1.5.0",
       "_model_name": "DescriptionStyleModel",
       "_view_count": null,
       "_view_module": "@jupyter-widgets/base",
       "_view_module_version": "1.2.0",
       "_view_name": "StyleView",
       "description_width": ""
      }
     },
     "1c1d6cfa741d4f74babc39edf6465493": {
      "model_module": "@jupyter-widgets/base",
      "model_module_version": "1.2.0",
      "model_name": "LayoutModel",
      "state": {
       "_model_module": "@jupyter-widgets/base",
       "_model_module_version": "1.2.0",
       "_model_name": "LayoutModel",
       "_view_count": null,
       "_view_module": "@jupyter-widgets/base",
       "_view_module_version": "1.2.0",
       "_view_name": "LayoutView",
       "align_content": null,
       "align_items": null,
       "align_self": null,
       "border": null,
       "bottom": null,
       "display": null,
       "flex": "2",
       "flex_flow": null,
       "grid_area": null,
       "grid_auto_columns": null,
       "grid_auto_flow": null,
       "grid_auto_rows": null,
       "grid_column": null,
       "grid_gap": null,
       "grid_row": null,
       "grid_template_areas": null,
       "grid_template_columns": null,
       "grid_template_rows": null,
       "height": null,
       "justify_content": null,
       "justify_items": null,
       "left": null,
       "margin": null,
       "max_height": null,
       "max_width": null,
       "min_height": null,
       "min_width": null,
       "object_fit": null,
       "object_position": null,
       "order": null,
       "overflow": null,
       "overflow_x": null,
       "overflow_y": null,
       "padding": null,
       "right": null,
       "top": null,
       "visibility": null,
       "width": null
      }
     },
     "1eb89df0c4bf4cd4b4ec86e9520deb47": {
      "model_module": "@jupyter-widgets/controls",
      "model_module_version": "1.5.0",
      "model_name": "ProgressStyleModel",
      "state": {
       "_model_module": "@jupyter-widgets/controls",
       "_model_module_version": "1.5.0",
       "_model_name": "ProgressStyleModel",
       "_view_count": null,
       "_view_module": "@jupyter-widgets/base",
       "_view_module_version": "1.2.0",
       "_view_name": "StyleView",
       "bar_color": null,
       "description_width": ""
      }
     },
     "20dfac4adf034c54be6634bea3863cf6": {
      "model_module": "@jupyter-widgets/controls",
      "model_module_version": "1.5.0",
      "model_name": "DescriptionStyleModel",
      "state": {
       "_model_module": "@jupyter-widgets/controls",
       "_model_module_version": "1.5.0",
       "_model_name": "DescriptionStyleModel",
       "_view_count": null,
       "_view_module": "@jupyter-widgets/base",
       "_view_module_version": "1.2.0",
       "_view_name": "StyleView",
       "description_width": ""
      }
     },
     "2280cc9c9da5456ca30c1272a37ce272": {
      "model_module": "@jupyter-widgets/controls",
      "model_module_version": "1.5.0",
      "model_name": "HBoxModel",
      "state": {
       "_dom_classes": [],
       "_model_module": "@jupyter-widgets/controls",
       "_model_module_version": "1.5.0",
       "_model_name": "HBoxModel",
       "_view_count": null,
       "_view_module": "@jupyter-widgets/controls",
       "_view_module_version": "1.5.0",
       "_view_name": "HBoxView",
       "box_style": "",
       "children": [
        "IPY_MODEL_786db39ed6d84413bd4dae88921aaf08",
        "IPY_MODEL_02c1d223144f445e948cfa4864f89caf",
        "IPY_MODEL_395f257104df4577a8018b0cb71c35e0"
       ],
       "layout": "IPY_MODEL_08769c90095c41acafa47fbd31deaff6"
      }
     },
     "27ebd86d2da146a28c5c24fc80c3cacd": {
      "model_module": "@jupyter-widgets/controls",
      "model_module_version": "1.5.0",
      "model_name": "DescriptionStyleModel",
      "state": {
       "_model_module": "@jupyter-widgets/controls",
       "_model_module_version": "1.5.0",
       "_model_name": "DescriptionStyleModel",
       "_view_count": null,
       "_view_module": "@jupyter-widgets/base",
       "_view_module_version": "1.2.0",
       "_view_name": "StyleView",
       "description_width": ""
      }
     },
     "29ebc88ddea54294ba44cb1f90781ac6": {
      "model_module": "@jupyter-widgets/controls",
      "model_module_version": "1.5.0",
      "model_name": "FloatProgressModel",
      "state": {
       "_dom_classes": [],
       "_model_module": "@jupyter-widgets/controls",
       "_model_module_version": "1.5.0",
       "_model_name": "FloatProgressModel",
       "_view_count": null,
       "_view_module": "@jupyter-widgets/controls",
       "_view_module_version": "1.5.0",
       "_view_name": "ProgressView",
       "bar_style": "",
       "description": "",
       "description_tooltip": null,
       "layout": "IPY_MODEL_0619a76f702245e6bbf87485f3701f8b",
       "max": 33,
       "min": 0,
       "orientation": "horizontal",
       "style": "IPY_MODEL_a6d87849874745acba68531d076742fd",
       "value": 33
      }
     },
     "30d7edafae9a4487ab3224e2217f133c": {
      "model_module": "@jupyter-widgets/base",
      "model_module_version": "1.2.0",
      "model_name": "LayoutModel",
      "state": {
       "_model_module": "@jupyter-widgets/base",
       "_model_module_version": "1.2.0",
       "_model_name": "LayoutModel",
       "_view_count": null,
       "_view_module": "@jupyter-widgets/base",
       "_view_module_version": "1.2.0",
       "_view_name": "LayoutView",
       "align_content": null,
       "align_items": null,
       "align_self": null,
       "border": null,
       "bottom": null,
       "display": null,
       "flex": "2",
       "flex_flow": null,
       "grid_area": null,
       "grid_auto_columns": null,
       "grid_auto_flow": null,
       "grid_auto_rows": null,
       "grid_column": null,
       "grid_gap": null,
       "grid_row": null,
       "grid_template_areas": null,
       "grid_template_columns": null,
       "grid_template_rows": null,
       "height": null,
       "justify_content": null,
       "justify_items": null,
       "left": null,
       "margin": null,
       "max_height": null,
       "max_width": null,
       "min_height": null,
       "min_width": null,
       "object_fit": null,
       "object_position": null,
       "order": null,
       "overflow": null,
       "overflow_x": null,
       "overflow_y": null,
       "padding": null,
       "right": null,
       "top": null,
       "visibility": null,
       "width": null
      }
     },
     "3107a22f0ead4625bb24c7a0d79d9236": {
      "model_module": "@jupyter-widgets/base",
      "model_module_version": "1.2.0",
      "model_name": "LayoutModel",
      "state": {
       "_model_module": "@jupyter-widgets/base",
       "_model_module_version": "1.2.0",
       "_model_name": "LayoutModel",
       "_view_count": null,
       "_view_module": "@jupyter-widgets/base",
       "_view_module_version": "1.2.0",
       "_view_name": "LayoutView",
       "align_content": null,
       "align_items": null,
       "align_self": null,
       "border": null,
       "bottom": null,
       "display": null,
       "flex": null,
       "flex_flow": null,
       "grid_area": null,
       "grid_auto_columns": null,
       "grid_auto_flow": null,
       "grid_auto_rows": null,
       "grid_column": null,
       "grid_gap": null,
       "grid_row": null,
       "grid_template_areas": null,
       "grid_template_columns": null,
       "grid_template_rows": null,
       "height": null,
       "justify_content": null,
       "justify_items": null,
       "left": null,
       "margin": null,
       "max_height": null,
       "max_width": null,
       "min_height": null,
       "min_width": null,
       "object_fit": null,
       "object_position": null,
       "order": null,
       "overflow": null,
       "overflow_x": null,
       "overflow_y": null,
       "padding": null,
       "right": null,
       "top": null,
       "visibility": null,
       "width": null
      }
     },
     "395f257104df4577a8018b0cb71c35e0": {
      "model_module": "@jupyter-widgets/controls",
      "model_module_version": "1.5.0",
      "model_name": "HTMLModel",
      "state": {
       "_dom_classes": [],
       "_model_module": "@jupyter-widgets/controls",
       "_model_module_version": "1.5.0",
       "_model_name": "HTMLModel",
       "_view_count": null,
       "_view_module": "@jupyter-widgets/controls",
       "_view_module_version": "1.5.0",
       "_view_name": "HTMLView",
       "description": "",
       "description_tooltip": null,
       "layout": "IPY_MODEL_64b503f76d744d4185825c0682e3acde",
       "placeholder": "​",
       "style": "IPY_MODEL_6db1955b39ff418b8fca7097bbb249a7",
       "value": " 33/33 [00:03&lt;00:00,  8.45it/s]"
      }
     },
     "403ed9c6e7c649a38f2cf534d1f28451": {
      "model_module": "@jupyter-widgets/controls",
      "model_module_version": "1.5.0",
      "model_name": "HTMLModel",
      "state": {
       "_dom_classes": [],
       "_model_module": "@jupyter-widgets/controls",
       "_model_module_version": "1.5.0",
       "_model_name": "HTMLModel",
       "_view_count": null,
       "_view_module": "@jupyter-widgets/controls",
       "_view_module_version": "1.5.0",
       "_view_name": "HTMLView",
       "description": "",
       "description_tooltip": null,
       "layout": "IPY_MODEL_c9a7e1c93ea44814ba5a22bbce62c03f",
       "placeholder": "​",
       "style": "IPY_MODEL_27ebd86d2da146a28c5c24fc80c3cacd",
       "value": "Validation DataLoader 0: 100%"
      }
     },
     "50e25fa21bd64972896cd95480580f38": {
      "model_module": "@jupyter-widgets/controls",
      "model_module_version": "1.5.0",
      "model_name": "HTMLModel",
      "state": {
       "_dom_classes": [],
       "_model_module": "@jupyter-widgets/controls",
       "_model_module_version": "1.5.0",
       "_model_name": "HTMLModel",
       "_view_count": null,
       "_view_module": "@jupyter-widgets/controls",
       "_view_module_version": "1.5.0",
       "_view_name": "HTMLView",
       "description": "",
       "description_tooltip": null,
       "layout": "IPY_MODEL_ec4226a5d4424c3989cc03cce79ecf5d",
       "placeholder": "​",
       "style": "IPY_MODEL_a292e1848b8b406a86e68f392423bf7f",
       "value": "Epoch 4: 100%"
      }
     },
     "548e1d48fc954d40942b4b8b1b0d5571": {
      "model_module": "@jupyter-widgets/base",
      "model_module_version": "1.2.0",
      "model_name": "LayoutModel",
      "state": {
       "_model_module": "@jupyter-widgets/base",
       "_model_module_version": "1.2.0",
       "_model_name": "LayoutModel",
       "_view_count": null,
       "_view_module": "@jupyter-widgets/base",
       "_view_module_version": "1.2.0",
       "_view_name": "LayoutView",
       "align_content": null,
       "align_items": null,
       "align_self": null,
       "border": null,
       "bottom": null,
       "display": "inline-flex",
       "flex": null,
       "flex_flow": "row wrap",
       "grid_area": null,
       "grid_auto_columns": null,
       "grid_auto_flow": null,
       "grid_auto_rows": null,
       "grid_column": null,
       "grid_gap": null,
       "grid_row": null,
       "grid_template_areas": null,
       "grid_template_columns": null,
       "grid_template_rows": null,
       "height": null,
       "justify_content": null,
       "justify_items": null,
       "left": null,
       "margin": null,
       "max_height": null,
       "max_width": null,
       "min_height": null,
       "min_width": null,
       "object_fit": null,
       "object_position": null,
       "order": null,
       "overflow": null,
       "overflow_x": null,
       "overflow_y": null,
       "padding": null,
       "right": null,
       "top": null,
       "visibility": "hidden",
       "width": "100%"
      }
     },
     "574044b8982c418e9e22c54d6a902697": {
      "model_module": "@jupyter-widgets/controls",
      "model_module_version": "1.5.0",
      "model_name": "HTMLModel",
      "state": {
       "_dom_classes": [],
       "_model_module": "@jupyter-widgets/controls",
       "_model_module_version": "1.5.0",
       "_model_name": "HTMLModel",
       "_view_count": null,
       "_view_module": "@jupyter-widgets/controls",
       "_view_module_version": "1.5.0",
       "_view_name": "HTMLView",
       "description": "",
       "description_tooltip": null,
       "layout": "IPY_MODEL_3107a22f0ead4625bb24c7a0d79d9236",
       "placeholder": "​",
       "style": "IPY_MODEL_d7bf7bb337c74854a0f5fb2127c4f877",
       "value": " 33/33 [00:04&lt;00:00,  8.00it/s]"
      }
     },
     "59c47a6133e44fa5a8c674bac5e6f17c": {
      "model_module": "@jupyter-widgets/controls",
      "model_module_version": "1.5.0",
      "model_name": "HBoxModel",
      "state": {
       "_dom_classes": [],
       "_model_module": "@jupyter-widgets/controls",
       "_model_module_version": "1.5.0",
       "_model_name": "HBoxModel",
       "_view_count": null,
       "_view_module": "@jupyter-widgets/controls",
       "_view_module_version": "1.5.0",
       "_view_name": "HBoxView",
       "box_style": "",
       "children": [
        "IPY_MODEL_50e25fa21bd64972896cd95480580f38",
        "IPY_MODEL_8028377281c34b12a8f07469951dc8a2",
        "IPY_MODEL_ddf1e17533444bab97a65887033f2e48"
       ],
       "layout": "IPY_MODEL_d4ad84cead1944e8827802b8025b48d3"
      }
     },
     "5a374bb47d6c4d80bc6b917912a63d60": {
      "model_module": "@jupyter-widgets/base",
      "model_module_version": "1.2.0",
      "model_name": "LayoutModel",
      "state": {
       "_model_module": "@jupyter-widgets/base",
       "_model_module_version": "1.2.0",
       "_model_name": "LayoutModel",
       "_view_count": null,
       "_view_module": "@jupyter-widgets/base",
       "_view_module_version": "1.2.0",
       "_view_name": "LayoutView",
       "align_content": null,
       "align_items": null,
       "align_self": null,
       "border": null,
       "bottom": null,
       "display": null,
       "flex": null,
       "flex_flow": null,
       "grid_area": null,
       "grid_auto_columns": null,
       "grid_auto_flow": null,
       "grid_auto_rows": null,
       "grid_column": null,
       "grid_gap": null,
       "grid_row": null,
       "grid_template_areas": null,
       "grid_template_columns": null,
       "grid_template_rows": null,
       "height": null,
       "justify_content": null,
       "justify_items": null,
       "left": null,
       "margin": null,
       "max_height": null,
       "max_width": null,
       "min_height": null,
       "min_width": null,
       "object_fit": null,
       "object_position": null,
       "order": null,
       "overflow": null,
       "overflow_x": null,
       "overflow_y": null,
       "padding": null,
       "right": null,
       "top": null,
       "visibility": null,
       "width": null
      }
     },
     "60d3b55fef90456cb2078a386f20894a": {
      "model_module": "@jupyter-widgets/base",
      "model_module_version": "1.2.0",
      "model_name": "LayoutModel",
      "state": {
       "_model_module": "@jupyter-widgets/base",
       "_model_module_version": "1.2.0",
       "_model_name": "LayoutModel",
       "_view_count": null,
       "_view_module": "@jupyter-widgets/base",
       "_view_module_version": "1.2.0",
       "_view_name": "LayoutView",
       "align_content": null,
       "align_items": null,
       "align_self": null,
       "border": null,
       "bottom": null,
       "display": "inline-flex",
       "flex": null,
       "flex_flow": "row wrap",
       "grid_area": null,
       "grid_auto_columns": null,
       "grid_auto_flow": null,
       "grid_auto_rows": null,
       "grid_column": null,
       "grid_gap": null,
       "grid_row": null,
       "grid_template_areas": null,
       "grid_template_columns": null,
       "grid_template_rows": null,
       "height": null,
       "justify_content": null,
       "justify_items": null,
       "left": null,
       "margin": null,
       "max_height": null,
       "max_width": null,
       "min_height": null,
       "min_width": null,
       "object_fit": null,
       "object_position": null,
       "order": null,
       "overflow": null,
       "overflow_x": null,
       "overflow_y": null,
       "padding": null,
       "right": null,
       "top": null,
       "visibility": "hidden",
       "width": "100%"
      }
     },
     "61269419e4f44908b3dc8171968d4787": {
      "model_module": "@jupyter-widgets/base",
      "model_module_version": "1.2.0",
      "model_name": "LayoutModel",
      "state": {
       "_model_module": "@jupyter-widgets/base",
       "_model_module_version": "1.2.0",
       "_model_name": "LayoutModel",
       "_view_count": null,
       "_view_module": "@jupyter-widgets/base",
       "_view_module_version": "1.2.0",
       "_view_name": "LayoutView",
       "align_content": null,
       "align_items": null,
       "align_self": null,
       "border": null,
       "bottom": null,
       "display": null,
       "flex": null,
       "flex_flow": null,
       "grid_area": null,
       "grid_auto_columns": null,
       "grid_auto_flow": null,
       "grid_auto_rows": null,
       "grid_column": null,
       "grid_gap": null,
       "grid_row": null,
       "grid_template_areas": null,
       "grid_template_columns": null,
       "grid_template_rows": null,
       "height": null,
       "justify_content": null,
       "justify_items": null,
       "left": null,
       "margin": null,
       "max_height": null,
       "max_width": null,
       "min_height": null,
       "min_width": null,
       "object_fit": null,
       "object_position": null,
       "order": null,
       "overflow": null,
       "overflow_x": null,
       "overflow_y": null,
       "padding": null,
       "right": null,
       "top": null,
       "visibility": null,
       "width": null
      }
     },
     "64b503f76d744d4185825c0682e3acde": {
      "model_module": "@jupyter-widgets/base",
      "model_module_version": "1.2.0",
      "model_name": "LayoutModel",
      "state": {
       "_model_module": "@jupyter-widgets/base",
       "_model_module_version": "1.2.0",
       "_model_name": "LayoutModel",
       "_view_count": null,
       "_view_module": "@jupyter-widgets/base",
       "_view_module_version": "1.2.0",
       "_view_name": "LayoutView",
       "align_content": null,
       "align_items": null,
       "align_self": null,
       "border": null,
       "bottom": null,
       "display": null,
       "flex": null,
       "flex_flow": null,
       "grid_area": null,
       "grid_auto_columns": null,
       "grid_auto_flow": null,
       "grid_auto_rows": null,
       "grid_column": null,
       "grid_gap": null,
       "grid_row": null,
       "grid_template_areas": null,
       "grid_template_columns": null,
       "grid_template_rows": null,
       "height": null,
       "justify_content": null,
       "justify_items": null,
       "left": null,
       "margin": null,
       "max_height": null,
       "max_width": null,
       "min_height": null,
       "min_width": null,
       "object_fit": null,
       "object_position": null,
       "order": null,
       "overflow": null,
       "overflow_x": null,
       "overflow_y": null,
       "padding": null,
       "right": null,
       "top": null,
       "visibility": null,
       "width": null
      }
     },
     "6529b56e23b345a2971abd3434fc3a12": {
      "model_module": "@jupyter-widgets/base",
      "model_module_version": "1.2.0",
      "model_name": "LayoutModel",
      "state": {
       "_model_module": "@jupyter-widgets/base",
       "_model_module_version": "1.2.0",
       "_model_name": "LayoutModel",
       "_view_count": null,
       "_view_module": "@jupyter-widgets/base",
       "_view_module_version": "1.2.0",
       "_view_name": "LayoutView",
       "align_content": null,
       "align_items": null,
       "align_self": null,
       "border": null,
       "bottom": null,
       "display": null,
       "flex": null,
       "flex_flow": null,
       "grid_area": null,
       "grid_auto_columns": null,
       "grid_auto_flow": null,
       "grid_auto_rows": null,
       "grid_column": null,
       "grid_gap": null,
       "grid_row": null,
       "grid_template_areas": null,
       "grid_template_columns": null,
       "grid_template_rows": null,
       "height": null,
       "justify_content": null,
       "justify_items": null,
       "left": null,
       "margin": null,
       "max_height": null,
       "max_width": null,
       "min_height": null,
       "min_width": null,
       "object_fit": null,
       "object_position": null,
       "order": null,
       "overflow": null,
       "overflow_x": null,
       "overflow_y": null,
       "padding": null,
       "right": null,
       "top": null,
       "visibility": null,
       "width": null
      }
     },
     "6794777c8c11424e84db6d25fa7eb034": {
      "model_module": "@jupyter-widgets/base",
      "model_module_version": "1.2.0",
      "model_name": "LayoutModel",
      "state": {
       "_model_module": "@jupyter-widgets/base",
       "_model_module_version": "1.2.0",
       "_model_name": "LayoutModel",
       "_view_count": null,
       "_view_module": "@jupyter-widgets/base",
       "_view_module_version": "1.2.0",
       "_view_name": "LayoutView",
       "align_content": null,
       "align_items": null,
       "align_self": null,
       "border": null,
       "bottom": null,
       "display": "inline-flex",
       "flex": null,
       "flex_flow": "row wrap",
       "grid_area": null,
       "grid_auto_columns": null,
       "grid_auto_flow": null,
       "grid_auto_rows": null,
       "grid_column": null,
       "grid_gap": null,
       "grid_row": null,
       "grid_template_areas": null,
       "grid_template_columns": null,
       "grid_template_rows": null,
       "height": null,
       "justify_content": null,
       "justify_items": null,
       "left": null,
       "margin": null,
       "max_height": null,
       "max_width": null,
       "min_height": null,
       "min_width": null,
       "object_fit": null,
       "object_position": null,
       "order": null,
       "overflow": null,
       "overflow_x": null,
       "overflow_y": null,
       "padding": null,
       "right": null,
       "top": null,
       "visibility": "hidden",
       "width": "100%"
      }
     },
     "6b6510861e294f61835ea0c70d97331f": {
      "model_module": "@jupyter-widgets/controls",
      "model_module_version": "1.5.0",
      "model_name": "HBoxModel",
      "state": {
       "_dom_classes": [],
       "_model_module": "@jupyter-widgets/controls",
       "_model_module_version": "1.5.0",
       "_model_name": "HBoxModel",
       "_view_count": null,
       "_view_module": "@jupyter-widgets/controls",
       "_view_module_version": "1.5.0",
       "_view_name": "HBoxView",
       "box_style": "",
       "children": [
        "IPY_MODEL_7c95b022af984ff79ca389a3f6be275d",
        "IPY_MODEL_b697c25d35784bfb8a1aaa5c04186adf",
        "IPY_MODEL_574044b8982c418e9e22c54d6a902697"
       ],
       "layout": "IPY_MODEL_6794777c8c11424e84db6d25fa7eb034"
      }
     },
     "6ccce33d94074372827e4607d32a69e7": {
      "model_module": "@jupyter-widgets/base",
      "model_module_version": "1.2.0",
      "model_name": "LayoutModel",
      "state": {
       "_model_module": "@jupyter-widgets/base",
       "_model_module_version": "1.2.0",
       "_model_name": "LayoutModel",
       "_view_count": null,
       "_view_module": "@jupyter-widgets/base",
       "_view_module_version": "1.2.0",
       "_view_name": "LayoutView",
       "align_content": null,
       "align_items": null,
       "align_self": null,
       "border": null,
       "bottom": null,
       "display": null,
       "flex": null,
       "flex_flow": null,
       "grid_area": null,
       "grid_auto_columns": null,
       "grid_auto_flow": null,
       "grid_auto_rows": null,
       "grid_column": null,
       "grid_gap": null,
       "grid_row": null,
       "grid_template_areas": null,
       "grid_template_columns": null,
       "grid_template_rows": null,
       "height": null,
       "justify_content": null,
       "justify_items": null,
       "left": null,
       "margin": null,
       "max_height": null,
       "max_width": null,
       "min_height": null,
       "min_width": null,
       "object_fit": null,
       "object_position": null,
       "order": null,
       "overflow": null,
       "overflow_x": null,
       "overflow_y": null,
       "padding": null,
       "right": null,
       "top": null,
       "visibility": null,
       "width": null
      }
     },
     "6db1955b39ff418b8fca7097bbb249a7": {
      "model_module": "@jupyter-widgets/controls",
      "model_module_version": "1.5.0",
      "model_name": "DescriptionStyleModel",
      "state": {
       "_model_module": "@jupyter-widgets/controls",
       "_model_module_version": "1.5.0",
       "_model_name": "DescriptionStyleModel",
       "_view_count": null,
       "_view_module": "@jupyter-widgets/base",
       "_view_module_version": "1.2.0",
       "_view_name": "StyleView",
       "description_width": ""
      }
     },
     "6ed1552029e0437a9b6885384bd12c1a": {
      "model_module": "@jupyter-widgets/controls",
      "model_module_version": "1.5.0",
      "model_name": "HTMLModel",
      "state": {
       "_dom_classes": [],
       "_model_module": "@jupyter-widgets/controls",
       "_model_module_version": "1.5.0",
       "_model_name": "HTMLModel",
       "_view_count": null,
       "_view_module": "@jupyter-widgets/controls",
       "_view_module_version": "1.5.0",
       "_view_name": "HTMLView",
       "description": "",
       "description_tooltip": null,
       "layout": "IPY_MODEL_d16eb887754849a9b967d62805853360",
       "placeholder": "​",
       "style": "IPY_MODEL_95bf4eb9401c4c41ae06f6abdd57bcd4",
       "value": "Sanity Checking DataLoader 0: 100%"
      }
     },
     "786db39ed6d84413bd4dae88921aaf08": {
      "model_module": "@jupyter-widgets/controls",
      "model_module_version": "1.5.0",
      "model_name": "HTMLModel",
      "state": {
       "_dom_classes": [],
       "_model_module": "@jupyter-widgets/controls",
       "_model_module_version": "1.5.0",
       "_model_name": "HTMLModel",
       "_view_count": null,
       "_view_module": "@jupyter-widgets/controls",
       "_view_module_version": "1.5.0",
       "_view_name": "HTMLView",
       "description": "",
       "description_tooltip": null,
       "layout": "IPY_MODEL_15d68c9a6ba149db87e5b97b028f9677",
       "placeholder": "​",
       "style": "IPY_MODEL_ae5da2cf774a4799997f2b1eae7d6e32",
       "value": "Validation DataLoader 0: 100%"
      }
     },
     "79a362abe3cf436694c32b7abc37ee93": {
      "model_module": "@jupyter-widgets/controls",
      "model_module_version": "1.5.0",
      "model_name": "HBoxModel",
      "state": {
       "_dom_classes": [],
       "_model_module": "@jupyter-widgets/controls",
       "_model_module_version": "1.5.0",
       "_model_name": "HBoxModel",
       "_view_count": null,
       "_view_module": "@jupyter-widgets/controls",
       "_view_module_version": "1.5.0",
       "_view_name": "HBoxView",
       "box_style": "",
       "children": [
        "IPY_MODEL_6ed1552029e0437a9b6885384bd12c1a",
        "IPY_MODEL_af8a0402eb5b4b8097fca119e7d4139a",
        "IPY_MODEL_baa94ae83e8d43938921102d7953fb17"
       ],
       "layout": "IPY_MODEL_548e1d48fc954d40942b4b8b1b0d5571"
      }
     },
     "7a601bf48217499cbf90bc78e6662fe8": {
      "model_module": "@jupyter-widgets/controls",
      "model_module_version": "1.5.0",
      "model_name": "ProgressStyleModel",
      "state": {
       "_model_module": "@jupyter-widgets/controls",
       "_model_module_version": "1.5.0",
       "_model_name": "ProgressStyleModel",
       "_view_count": null,
       "_view_module": "@jupyter-widgets/base",
       "_view_module_version": "1.2.0",
       "_view_name": "StyleView",
       "bar_color": null,
       "description_width": ""
      }
     },
     "7c95b022af984ff79ca389a3f6be275d": {
      "model_module": "@jupyter-widgets/controls",
      "model_module_version": "1.5.0",
      "model_name": "HTMLModel",
      "state": {
       "_dom_classes": [],
       "_model_module": "@jupyter-widgets/controls",
       "_model_module_version": "1.5.0",
       "_model_name": "HTMLModel",
       "_view_count": null,
       "_view_module": "@jupyter-widgets/controls",
       "_view_module_version": "1.5.0",
       "_view_name": "HTMLView",
       "description": "",
       "description_tooltip": null,
       "layout": "IPY_MODEL_6529b56e23b345a2971abd3434fc3a12",
       "placeholder": "​",
       "style": "IPY_MODEL_8db51e6cbedf487c9e6af8bef5982734",
       "value": "Validation DataLoader 0: 100%"
      }
     },
     "8028377281c34b12a8f07469951dc8a2": {
      "model_module": "@jupyter-widgets/controls",
      "model_module_version": "1.5.0",
      "model_name": "FloatProgressModel",
      "state": {
       "_dom_classes": [],
       "_model_module": "@jupyter-widgets/controls",
       "_model_module_version": "1.5.0",
       "_model_name": "FloatProgressModel",
       "_view_count": null,
       "_view_module": "@jupyter-widgets/controls",
       "_view_module_version": "1.5.0",
       "_view_name": "ProgressView",
       "bar_style": "success",
       "description": "",
       "description_tooltip": null,
       "layout": "IPY_MODEL_f7eda69b90ae4c3a9d0ef1bdfc4438bc",
       "max": 372,
       "min": 0,
       "orientation": "horizontal",
       "style": "IPY_MODEL_1eb89df0c4bf4cd4b4ec86e9520deb47",
       "value": 372
      }
     },
     "882ab47ed4484e1d9bd6074b0716fc91": {
      "model_module": "@jupyter-widgets/controls",
      "model_module_version": "1.5.0",
      "model_name": "DescriptionStyleModel",
      "state": {
       "_model_module": "@jupyter-widgets/controls",
       "_model_module_version": "1.5.0",
       "_model_name": "DescriptionStyleModel",
       "_view_count": null,
       "_view_module": "@jupyter-widgets/base",
       "_view_module_version": "1.2.0",
       "_view_name": "StyleView",
       "description_width": ""
      }
     },
     "8929c07cca2b41dca811602dced90fbe": {
      "model_module": "@jupyter-widgets/controls",
      "model_module_version": "1.5.0",
      "model_name": "HBoxModel",
      "state": {
       "_dom_classes": [],
       "_model_module": "@jupyter-widgets/controls",
       "_model_module_version": "1.5.0",
       "_model_name": "HBoxModel",
       "_view_count": null,
       "_view_module": "@jupyter-widgets/controls",
       "_view_module_version": "1.5.0",
       "_view_name": "HBoxView",
       "box_style": "",
       "children": [
        "IPY_MODEL_403ed9c6e7c649a38f2cf534d1f28451",
        "IPY_MODEL_29ebc88ddea54294ba44cb1f90781ac6",
        "IPY_MODEL_cf89e817140a41d9b4f9dd44b4ac4639"
       ],
       "layout": "IPY_MODEL_8d87cb9a52db48d085c0e5e3d4d06f42"
      }
     },
     "8ac4226b343341d08c523eaa4272685b": {
      "model_module": "@jupyter-widgets/controls",
      "model_module_version": "1.5.0",
      "model_name": "DescriptionStyleModel",
      "state": {
       "_model_module": "@jupyter-widgets/controls",
       "_model_module_version": "1.5.0",
       "_model_name": "DescriptionStyleModel",
       "_view_count": null,
       "_view_module": "@jupyter-widgets/base",
       "_view_module_version": "1.2.0",
       "_view_name": "StyleView",
       "description_width": ""
      }
     },
     "8c865477e1bb46f99bf72f280a431c58": {
      "model_module": "@jupyter-widgets/controls",
      "model_module_version": "1.5.0",
      "model_name": "FloatProgressModel",
      "state": {
       "_dom_classes": [],
       "_model_module": "@jupyter-widgets/controls",
       "_model_module_version": "1.5.0",
       "_model_name": "FloatProgressModel",
       "_view_count": null,
       "_view_module": "@jupyter-widgets/controls",
       "_view_module_version": "1.5.0",
       "_view_name": "ProgressView",
       "bar_style": "",
       "description": "",
       "description_tooltip": null,
       "layout": "IPY_MODEL_1c1d6cfa741d4f74babc39edf6465493",
       "max": 33,
       "min": 0,
       "orientation": "horizontal",
       "style": "IPY_MODEL_e8cb325dbad540afb54c67d5ed7430b7",
       "value": 33
      }
     },
     "8cbaab7a761c40ed9b4613c228ec4ecb": {
      "model_module": "@jupyter-widgets/controls",
      "model_module_version": "1.5.0",
      "model_name": "ProgressStyleModel",
      "state": {
       "_model_module": "@jupyter-widgets/controls",
       "_model_module_version": "1.5.0",
       "_model_name": "ProgressStyleModel",
       "_view_count": null,
       "_view_module": "@jupyter-widgets/base",
       "_view_module_version": "1.2.0",
       "_view_name": "StyleView",
       "bar_color": null,
       "description_width": ""
      }
     },
     "8d87cb9a52db48d085c0e5e3d4d06f42": {
      "model_module": "@jupyter-widgets/base",
      "model_module_version": "1.2.0",
      "model_name": "LayoutModel",
      "state": {
       "_model_module": "@jupyter-widgets/base",
       "_model_module_version": "1.2.0",
       "_model_name": "LayoutModel",
       "_view_count": null,
       "_view_module": "@jupyter-widgets/base",
       "_view_module_version": "1.2.0",
       "_view_name": "LayoutView",
       "align_content": null,
       "align_items": null,
       "align_self": null,
       "border": null,
       "bottom": null,
       "display": "inline-flex",
       "flex": null,
       "flex_flow": "row wrap",
       "grid_area": null,
       "grid_auto_columns": null,
       "grid_auto_flow": null,
       "grid_auto_rows": null,
       "grid_column": null,
       "grid_gap": null,
       "grid_row": null,
       "grid_template_areas": null,
       "grid_template_columns": null,
       "grid_template_rows": null,
       "height": null,
       "justify_content": null,
       "justify_items": null,
       "left": null,
       "margin": null,
       "max_height": null,
       "max_width": null,
       "min_height": null,
       "min_width": null,
       "object_fit": null,
       "object_position": null,
       "order": null,
       "overflow": null,
       "overflow_x": null,
       "overflow_y": null,
       "padding": null,
       "right": null,
       "top": null,
       "visibility": "hidden",
       "width": "100%"
      }
     },
     "8db51e6cbedf487c9e6af8bef5982734": {
      "model_module": "@jupyter-widgets/controls",
      "model_module_version": "1.5.0",
      "model_name": "DescriptionStyleModel",
      "state": {
       "_model_module": "@jupyter-widgets/controls",
       "_model_module_version": "1.5.0",
       "_model_name": "DescriptionStyleModel",
       "_view_count": null,
       "_view_module": "@jupyter-widgets/base",
       "_view_module_version": "1.2.0",
       "_view_name": "StyleView",
       "description_width": ""
      }
     },
     "8e2907cfedc34cd1a550e028e147f175": {
      "model_module": "@jupyter-widgets/controls",
      "model_module_version": "1.5.0",
      "model_name": "HBoxModel",
      "state": {
       "_dom_classes": [],
       "_model_module": "@jupyter-widgets/controls",
       "_model_module_version": "1.5.0",
       "_model_name": "HBoxModel",
       "_view_count": null,
       "_view_module": "@jupyter-widgets/controls",
       "_view_module_version": "1.5.0",
       "_view_name": "HBoxView",
       "box_style": "",
       "children": [
        "IPY_MODEL_0c886038a5684f598bf2e74e71425833",
        "IPY_MODEL_8c865477e1bb46f99bf72f280a431c58",
        "IPY_MODEL_d571414c1cf94734a57780157fc0266e"
       ],
       "layout": "IPY_MODEL_60d3b55fef90456cb2078a386f20894a"
      }
     },
     "8ec43037b8ee421e97f22c8394a015ad": {
      "model_module": "@jupyter-widgets/base",
      "model_module_version": "1.2.0",
      "model_name": "LayoutModel",
      "state": {
       "_model_module": "@jupyter-widgets/base",
       "_model_module_version": "1.2.0",
       "_model_name": "LayoutModel",
       "_view_count": null,
       "_view_module": "@jupyter-widgets/base",
       "_view_module_version": "1.2.0",
       "_view_name": "LayoutView",
       "align_content": null,
       "align_items": null,
       "align_self": null,
       "border": null,
       "bottom": null,
       "display": null,
       "flex": null,
       "flex_flow": null,
       "grid_area": null,
       "grid_auto_columns": null,
       "grid_auto_flow": null,
       "grid_auto_rows": null,
       "grid_column": null,
       "grid_gap": null,
       "grid_row": null,
       "grid_template_areas": null,
       "grid_template_columns": null,
       "grid_template_rows": null,
       "height": null,
       "justify_content": null,
       "justify_items": null,
       "left": null,
       "margin": null,
       "max_height": null,
       "max_width": null,
       "min_height": null,
       "min_width": null,
       "object_fit": null,
       "object_position": null,
       "order": null,
       "overflow": null,
       "overflow_x": null,
       "overflow_y": null,
       "padding": null,
       "right": null,
       "top": null,
       "visibility": null,
       "width": null
      }
     },
     "901d64c8b02948cd9b83a3887a94bb2a": {
      "model_module": "@jupyter-widgets/controls",
      "model_module_version": "1.5.0",
      "model_name": "ProgressStyleModel",
      "state": {
       "_model_module": "@jupyter-widgets/controls",
       "_model_module_version": "1.5.0",
       "_model_name": "ProgressStyleModel",
       "_view_count": null,
       "_view_module": "@jupyter-widgets/base",
       "_view_module_version": "1.2.0",
       "_view_name": "StyleView",
       "bar_color": null,
       "description_width": ""
      }
     },
     "92cde1b576b44697a7ca04cc76e72d02": {
      "model_module": "@jupyter-widgets/base",
      "model_module_version": "1.2.0",
      "model_name": "LayoutModel",
      "state": {
       "_model_module": "@jupyter-widgets/base",
       "_model_module_version": "1.2.0",
       "_model_name": "LayoutModel",
       "_view_count": null,
       "_view_module": "@jupyter-widgets/base",
       "_view_module_version": "1.2.0",
       "_view_name": "LayoutView",
       "align_content": null,
       "align_items": null,
       "align_self": null,
       "border": null,
       "bottom": null,
       "display": null,
       "flex": "2",
       "flex_flow": null,
       "grid_area": null,
       "grid_auto_columns": null,
       "grid_auto_flow": null,
       "grid_auto_rows": null,
       "grid_column": null,
       "grid_gap": null,
       "grid_row": null,
       "grid_template_areas": null,
       "grid_template_columns": null,
       "grid_template_rows": null,
       "height": null,
       "justify_content": null,
       "justify_items": null,
       "left": null,
       "margin": null,
       "max_height": null,
       "max_width": null,
       "min_height": null,
       "min_width": null,
       "object_fit": null,
       "object_position": null,
       "order": null,
       "overflow": null,
       "overflow_x": null,
       "overflow_y": null,
       "padding": null,
       "right": null,
       "top": null,
       "visibility": null,
       "width": null
      }
     },
     "95bf4eb9401c4c41ae06f6abdd57bcd4": {
      "model_module": "@jupyter-widgets/controls",
      "model_module_version": "1.5.0",
      "model_name": "DescriptionStyleModel",
      "state": {
       "_model_module": "@jupyter-widgets/controls",
       "_model_module_version": "1.5.0",
       "_model_name": "DescriptionStyleModel",
       "_view_count": null,
       "_view_module": "@jupyter-widgets/base",
       "_view_module_version": "1.2.0",
       "_view_name": "StyleView",
       "description_width": ""
      }
     },
     "98665a30102943f8b41b27006e0f15bd": {
      "model_module": "@jupyter-widgets/controls",
      "model_module_version": "1.5.0",
      "model_name": "HBoxModel",
      "state": {
       "_dom_classes": [],
       "_model_module": "@jupyter-widgets/controls",
       "_model_module_version": "1.5.0",
       "_model_name": "HBoxModel",
       "_view_count": null,
       "_view_module": "@jupyter-widgets/controls",
       "_view_module_version": "1.5.0",
       "_view_name": "HBoxView",
       "box_style": "",
       "children": [
        "IPY_MODEL_a94941fc986344788e57f74f5f80c053",
        "IPY_MODEL_9c639ce021984c1cb958c8b3052fb6ec",
        "IPY_MODEL_e4a481c9a9754d3fb7890ba98c8dd4ff"
       ],
       "layout": "IPY_MODEL_f0dc177cc5a24abaa819fb42627c7f14"
      }
     },
     "9c639ce021984c1cb958c8b3052fb6ec": {
      "model_module": "@jupyter-widgets/controls",
      "model_module_version": "1.5.0",
      "model_name": "FloatProgressModel",
      "state": {
       "_dom_classes": [],
       "_model_module": "@jupyter-widgets/controls",
       "_model_module_version": "1.5.0",
       "_model_name": "FloatProgressModel",
       "_view_count": null,
       "_view_module": "@jupyter-widgets/controls",
       "_view_module_version": "1.5.0",
       "_view_name": "ProgressView",
       "bar_style": "",
       "description": "",
       "description_tooltip": null,
       "layout": "IPY_MODEL_ed56adb8b9b04df8a1ca57718dd8e660",
       "max": 33,
       "min": 0,
       "orientation": "horizontal",
       "style": "IPY_MODEL_8cbaab7a761c40ed9b4613c228ec4ecb",
       "value": 33
      }
     },
     "a292e1848b8b406a86e68f392423bf7f": {
      "model_module": "@jupyter-widgets/controls",
      "model_module_version": "1.5.0",
      "model_name": "DescriptionStyleModel",
      "state": {
       "_model_module": "@jupyter-widgets/controls",
       "_model_module_version": "1.5.0",
       "_model_name": "DescriptionStyleModel",
       "_view_count": null,
       "_view_module": "@jupyter-widgets/base",
       "_view_module_version": "1.2.0",
       "_view_name": "StyleView",
       "description_width": ""
      }
     },
     "a407faf4c9dc41ac9a28b676c3af3780": {
      "model_module": "@jupyter-widgets/base",
      "model_module_version": "1.2.0",
      "model_name": "LayoutModel",
      "state": {
       "_model_module": "@jupyter-widgets/base",
       "_model_module_version": "1.2.0",
       "_model_name": "LayoutModel",
       "_view_count": null,
       "_view_module": "@jupyter-widgets/base",
       "_view_module_version": "1.2.0",
       "_view_name": "LayoutView",
       "align_content": null,
       "align_items": null,
       "align_self": null,
       "border": null,
       "bottom": null,
       "display": null,
       "flex": null,
       "flex_flow": null,
       "grid_area": null,
       "grid_auto_columns": null,
       "grid_auto_flow": null,
       "grid_auto_rows": null,
       "grid_column": null,
       "grid_gap": null,
       "grid_row": null,
       "grid_template_areas": null,
       "grid_template_columns": null,
       "grid_template_rows": null,
       "height": null,
       "justify_content": null,
       "justify_items": null,
       "left": null,
       "margin": null,
       "max_height": null,
       "max_width": null,
       "min_height": null,
       "min_width": null,
       "object_fit": null,
       "object_position": null,
       "order": null,
       "overflow": null,
       "overflow_x": null,
       "overflow_y": null,
       "padding": null,
       "right": null,
       "top": null,
       "visibility": null,
       "width": null
      }
     },
     "a6d87849874745acba68531d076742fd": {
      "model_module": "@jupyter-widgets/controls",
      "model_module_version": "1.5.0",
      "model_name": "ProgressStyleModel",
      "state": {
       "_model_module": "@jupyter-widgets/controls",
       "_model_module_version": "1.5.0",
       "_model_name": "ProgressStyleModel",
       "_view_count": null,
       "_view_module": "@jupyter-widgets/base",
       "_view_module_version": "1.2.0",
       "_view_name": "StyleView",
       "bar_color": null,
       "description_width": ""
      }
     },
     "a94941fc986344788e57f74f5f80c053": {
      "model_module": "@jupyter-widgets/controls",
      "model_module_version": "1.5.0",
      "model_name": "HTMLModel",
      "state": {
       "_dom_classes": [],
       "_model_module": "@jupyter-widgets/controls",
       "_model_module_version": "1.5.0",
       "_model_name": "HTMLModel",
       "_view_count": null,
       "_view_module": "@jupyter-widgets/controls",
       "_view_module_version": "1.5.0",
       "_view_name": "HTMLView",
       "description": "",
       "description_tooltip": null,
       "layout": "IPY_MODEL_6ccce33d94074372827e4607d32a69e7",
       "placeholder": "​",
       "style": "IPY_MODEL_0935c6a4c6734e109243ebe4e21c5a59",
       "value": "Validation DataLoader 0: 100%"
      }
     },
     "ae5da2cf774a4799997f2b1eae7d6e32": {
      "model_module": "@jupyter-widgets/controls",
      "model_module_version": "1.5.0",
      "model_name": "DescriptionStyleModel",
      "state": {
       "_model_module": "@jupyter-widgets/controls",
       "_model_module_version": "1.5.0",
       "_model_name": "DescriptionStyleModel",
       "_view_count": null,
       "_view_module": "@jupyter-widgets/base",
       "_view_module_version": "1.2.0",
       "_view_name": "StyleView",
       "description_width": ""
      }
     },
     "af8a0402eb5b4b8097fca119e7d4139a": {
      "model_module": "@jupyter-widgets/controls",
      "model_module_version": "1.5.0",
      "model_name": "FloatProgressModel",
      "state": {
       "_dom_classes": [],
       "_model_module": "@jupyter-widgets/controls",
       "_model_module_version": "1.5.0",
       "_model_name": "FloatProgressModel",
       "_view_count": null,
       "_view_module": "@jupyter-widgets/controls",
       "_view_module_version": "1.5.0",
       "_view_name": "ProgressView",
       "bar_style": "",
       "description": "",
       "description_tooltip": null,
       "layout": "IPY_MODEL_92cde1b576b44697a7ca04cc76e72d02",
       "max": 2,
       "min": 0,
       "orientation": "horizontal",
       "style": "IPY_MODEL_da0a42df0c8c460d9dd5ffa383063157",
       "value": 2
      }
     },
     "b697c25d35784bfb8a1aaa5c04186adf": {
      "model_module": "@jupyter-widgets/controls",
      "model_module_version": "1.5.0",
      "model_name": "FloatProgressModel",
      "state": {
       "_dom_classes": [],
       "_model_module": "@jupyter-widgets/controls",
       "_model_module_version": "1.5.0",
       "_model_name": "FloatProgressModel",
       "_view_count": null,
       "_view_module": "@jupyter-widgets/controls",
       "_view_module_version": "1.5.0",
       "_view_name": "ProgressView",
       "bar_style": "",
       "description": "",
       "description_tooltip": null,
       "layout": "IPY_MODEL_d3633466e9f742c39ef671129fe77141",
       "max": 33,
       "min": 0,
       "orientation": "horizontal",
       "style": "IPY_MODEL_7a601bf48217499cbf90bc78e6662fe8",
       "value": 33
      }
     },
     "baa94ae83e8d43938921102d7953fb17": {
      "model_module": "@jupyter-widgets/controls",
      "model_module_version": "1.5.0",
      "model_name": "HTMLModel",
      "state": {
       "_dom_classes": [],
       "_model_module": "@jupyter-widgets/controls",
       "_model_module_version": "1.5.0",
       "_model_name": "HTMLModel",
       "_view_count": null,
       "_view_module": "@jupyter-widgets/controls",
       "_view_module_version": "1.5.0",
       "_view_name": "HTMLView",
       "description": "",
       "description_tooltip": null,
       "layout": "IPY_MODEL_a407faf4c9dc41ac9a28b676c3af3780",
       "placeholder": "​",
       "style": "IPY_MODEL_d76de4d69dba4e8d84859a193ec2bfa6",
       "value": " 2/2 [00:00&lt;00:00,  8.91it/s]"
      }
     },
     "c71c5def747b4bec9f4989706509e863": {
      "model_module": "@jupyter-widgets/base",
      "model_module_version": "1.2.0",
      "model_name": "LayoutModel",
      "state": {
       "_model_module": "@jupyter-widgets/base",
       "_model_module_version": "1.2.0",
       "_model_name": "LayoutModel",
       "_view_count": null,
       "_view_module": "@jupyter-widgets/base",
       "_view_module_version": "1.2.0",
       "_view_name": "LayoutView",
       "align_content": null,
       "align_items": null,
       "align_self": null,
       "border": null,
       "bottom": null,
       "display": null,
       "flex": null,
       "flex_flow": null,
       "grid_area": null,
       "grid_auto_columns": null,
       "grid_auto_flow": null,
       "grid_auto_rows": null,
       "grid_column": null,
       "grid_gap": null,
       "grid_row": null,
       "grid_template_areas": null,
       "grid_template_columns": null,
       "grid_template_rows": null,
       "height": null,
       "justify_content": null,
       "justify_items": null,
       "left": null,
       "margin": null,
       "max_height": null,
       "max_width": null,
       "min_height": null,
       "min_width": null,
       "object_fit": null,
       "object_position": null,
       "order": null,
       "overflow": null,
       "overflow_x": null,
       "overflow_y": null,
       "padding": null,
       "right": null,
       "top": null,
       "visibility": null,
       "width": null
      }
     },
     "c9a7e1c93ea44814ba5a22bbce62c03f": {
      "model_module": "@jupyter-widgets/base",
      "model_module_version": "1.2.0",
      "model_name": "LayoutModel",
      "state": {
       "_model_module": "@jupyter-widgets/base",
       "_model_module_version": "1.2.0",
       "_model_name": "LayoutModel",
       "_view_count": null,
       "_view_module": "@jupyter-widgets/base",
       "_view_module_version": "1.2.0",
       "_view_name": "LayoutView",
       "align_content": null,
       "align_items": null,
       "align_self": null,
       "border": null,
       "bottom": null,
       "display": null,
       "flex": null,
       "flex_flow": null,
       "grid_area": null,
       "grid_auto_columns": null,
       "grid_auto_flow": null,
       "grid_auto_rows": null,
       "grid_column": null,
       "grid_gap": null,
       "grid_row": null,
       "grid_template_areas": null,
       "grid_template_columns": null,
       "grid_template_rows": null,
       "height": null,
       "justify_content": null,
       "justify_items": null,
       "left": null,
       "margin": null,
       "max_height": null,
       "max_width": null,
       "min_height": null,
       "min_width": null,
       "object_fit": null,
       "object_position": null,
       "order": null,
       "overflow": null,
       "overflow_x": null,
       "overflow_y": null,
       "padding": null,
       "right": null,
       "top": null,
       "visibility": null,
       "width": null
      }
     },
     "cf89e817140a41d9b4f9dd44b4ac4639": {
      "model_module": "@jupyter-widgets/controls",
      "model_module_version": "1.5.0",
      "model_name": "HTMLModel",
      "state": {
       "_dom_classes": [],
       "_model_module": "@jupyter-widgets/controls",
       "_model_module_version": "1.5.0",
       "_model_name": "HTMLModel",
       "_view_count": null,
       "_view_module": "@jupyter-widgets/controls",
       "_view_module_version": "1.5.0",
       "_view_name": "HTMLView",
       "description": "",
       "description_tooltip": null,
       "layout": "IPY_MODEL_8ec43037b8ee421e97f22c8394a015ad",
       "placeholder": "​",
       "style": "IPY_MODEL_d4b739cd7bdf44a09f88d1352b8579fb",
       "value": " 33/33 [00:04&lt;00:00,  7.99it/s]"
      }
     },
     "d16eb887754849a9b967d62805853360": {
      "model_module": "@jupyter-widgets/base",
      "model_module_version": "1.2.0",
      "model_name": "LayoutModel",
      "state": {
       "_model_module": "@jupyter-widgets/base",
       "_model_module_version": "1.2.0",
       "_model_name": "LayoutModel",
       "_view_count": null,
       "_view_module": "@jupyter-widgets/base",
       "_view_module_version": "1.2.0",
       "_view_name": "LayoutView",
       "align_content": null,
       "align_items": null,
       "align_self": null,
       "border": null,
       "bottom": null,
       "display": null,
       "flex": null,
       "flex_flow": null,
       "grid_area": null,
       "grid_auto_columns": null,
       "grid_auto_flow": null,
       "grid_auto_rows": null,
       "grid_column": null,
       "grid_gap": null,
       "grid_row": null,
       "grid_template_areas": null,
       "grid_template_columns": null,
       "grid_template_rows": null,
       "height": null,
       "justify_content": null,
       "justify_items": null,
       "left": null,
       "margin": null,
       "max_height": null,
       "max_width": null,
       "min_height": null,
       "min_width": null,
       "object_fit": null,
       "object_position": null,
       "order": null,
       "overflow": null,
       "overflow_x": null,
       "overflow_y": null,
       "padding": null,
       "right": null,
       "top": null,
       "visibility": null,
       "width": null
      }
     },
     "d3633466e9f742c39ef671129fe77141": {
      "model_module": "@jupyter-widgets/base",
      "model_module_version": "1.2.0",
      "model_name": "LayoutModel",
      "state": {
       "_model_module": "@jupyter-widgets/base",
       "_model_module_version": "1.2.0",
       "_model_name": "LayoutModel",
       "_view_count": null,
       "_view_module": "@jupyter-widgets/base",
       "_view_module_version": "1.2.0",
       "_view_name": "LayoutView",
       "align_content": null,
       "align_items": null,
       "align_self": null,
       "border": null,
       "bottom": null,
       "display": null,
       "flex": "2",
       "flex_flow": null,
       "grid_area": null,
       "grid_auto_columns": null,
       "grid_auto_flow": null,
       "grid_auto_rows": null,
       "grid_column": null,
       "grid_gap": null,
       "grid_row": null,
       "grid_template_areas": null,
       "grid_template_columns": null,
       "grid_template_rows": null,
       "height": null,
       "justify_content": null,
       "justify_items": null,
       "left": null,
       "margin": null,
       "max_height": null,
       "max_width": null,
       "min_height": null,
       "min_width": null,
       "object_fit": null,
       "object_position": null,
       "order": null,
       "overflow": null,
       "overflow_x": null,
       "overflow_y": null,
       "padding": null,
       "right": null,
       "top": null,
       "visibility": null,
       "width": null
      }
     },
     "d4ad84cead1944e8827802b8025b48d3": {
      "model_module": "@jupyter-widgets/base",
      "model_module_version": "1.2.0",
      "model_name": "LayoutModel",
      "state": {
       "_model_module": "@jupyter-widgets/base",
       "_model_module_version": "1.2.0",
       "_model_name": "LayoutModel",
       "_view_count": null,
       "_view_module": "@jupyter-widgets/base",
       "_view_module_version": "1.2.0",
       "_view_name": "LayoutView",
       "align_content": null,
       "align_items": null,
       "align_self": null,
       "border": null,
       "bottom": null,
       "display": "inline-flex",
       "flex": null,
       "flex_flow": "row wrap",
       "grid_area": null,
       "grid_auto_columns": null,
       "grid_auto_flow": null,
       "grid_auto_rows": null,
       "grid_column": null,
       "grid_gap": null,
       "grid_row": null,
       "grid_template_areas": null,
       "grid_template_columns": null,
       "grid_template_rows": null,
       "height": null,
       "justify_content": null,
       "justify_items": null,
       "left": null,
       "margin": null,
       "max_height": null,
       "max_width": null,
       "min_height": null,
       "min_width": null,
       "object_fit": null,
       "object_position": null,
       "order": null,
       "overflow": null,
       "overflow_x": null,
       "overflow_y": null,
       "padding": null,
       "right": null,
       "top": null,
       "visibility": null,
       "width": "100%"
      }
     },
     "d4b739cd7bdf44a09f88d1352b8579fb": {
      "model_module": "@jupyter-widgets/controls",
      "model_module_version": "1.5.0",
      "model_name": "DescriptionStyleModel",
      "state": {
       "_model_module": "@jupyter-widgets/controls",
       "_model_module_version": "1.5.0",
       "_model_name": "DescriptionStyleModel",
       "_view_count": null,
       "_view_module": "@jupyter-widgets/base",
       "_view_module_version": "1.2.0",
       "_view_name": "StyleView",
       "description_width": ""
      }
     },
     "d571414c1cf94734a57780157fc0266e": {
      "model_module": "@jupyter-widgets/controls",
      "model_module_version": "1.5.0",
      "model_name": "HTMLModel",
      "state": {
       "_dom_classes": [],
       "_model_module": "@jupyter-widgets/controls",
       "_model_module_version": "1.5.0",
       "_model_name": "HTMLModel",
       "_view_count": null,
       "_view_module": "@jupyter-widgets/controls",
       "_view_module_version": "1.5.0",
       "_view_name": "HTMLView",
       "description": "",
       "description_tooltip": null,
       "layout": "IPY_MODEL_61269419e4f44908b3dc8171968d4787",
       "placeholder": "​",
       "style": "IPY_MODEL_1be1a129d11f429bb2ab4216c997efde",
       "value": " 33/33 [00:03&lt;00:00,  8.41it/s]"
      }
     },
     "d76de4d69dba4e8d84859a193ec2bfa6": {
      "model_module": "@jupyter-widgets/controls",
      "model_module_version": "1.5.0",
      "model_name": "DescriptionStyleModel",
      "state": {
       "_model_module": "@jupyter-widgets/controls",
       "_model_module_version": "1.5.0",
       "_model_name": "DescriptionStyleModel",
       "_view_count": null,
       "_view_module": "@jupyter-widgets/base",
       "_view_module_version": "1.2.0",
       "_view_name": "StyleView",
       "description_width": ""
      }
     },
     "d7bf7bb337c74854a0f5fb2127c4f877": {
      "model_module": "@jupyter-widgets/controls",
      "model_module_version": "1.5.0",
      "model_name": "DescriptionStyleModel",
      "state": {
       "_model_module": "@jupyter-widgets/controls",
       "_model_module_version": "1.5.0",
       "_model_name": "DescriptionStyleModel",
       "_view_count": null,
       "_view_module": "@jupyter-widgets/base",
       "_view_module_version": "1.2.0",
       "_view_name": "StyleView",
       "description_width": ""
      }
     },
     "da0a42df0c8c460d9dd5ffa383063157": {
      "model_module": "@jupyter-widgets/controls",
      "model_module_version": "1.5.0",
      "model_name": "ProgressStyleModel",
      "state": {
       "_model_module": "@jupyter-widgets/controls",
       "_model_module_version": "1.5.0",
       "_model_name": "ProgressStyleModel",
       "_view_count": null,
       "_view_module": "@jupyter-widgets/base",
       "_view_module_version": "1.2.0",
       "_view_name": "StyleView",
       "bar_color": null,
       "description_width": ""
      }
     },
     "ddf1e17533444bab97a65887033f2e48": {
      "model_module": "@jupyter-widgets/controls",
      "model_module_version": "1.5.0",
      "model_name": "HTMLModel",
      "state": {
       "_dom_classes": [],
       "_model_module": "@jupyter-widgets/controls",
       "_model_module_version": "1.5.0",
       "_model_name": "HTMLModel",
       "_view_count": null,
       "_view_module": "@jupyter-widgets/controls",
       "_view_module_version": "1.5.0",
       "_view_name": "HTMLView",
       "description": "",
       "description_tooltip": null,
       "layout": "IPY_MODEL_c71c5def747b4bec9f4989706509e863",
       "placeholder": "​",
       "style": "IPY_MODEL_20dfac4adf034c54be6634bea3863cf6",
       "value": " 372/372 [00:33&lt;00:00, 11.06it/s, v_num=0, train_acc=0.955, val_acc=0.960]"
      }
     },
     "e4a481c9a9754d3fb7890ba98c8dd4ff": {
      "model_module": "@jupyter-widgets/controls",
      "model_module_version": "1.5.0",
      "model_name": "HTMLModel",
      "state": {
       "_dom_classes": [],
       "_model_module": "@jupyter-widgets/controls",
       "_model_module_version": "1.5.0",
       "_model_name": "HTMLModel",
       "_view_count": null,
       "_view_module": "@jupyter-widgets/controls",
       "_view_module_version": "1.5.0",
       "_view_name": "HTMLView",
       "description": "",
       "description_tooltip": null,
       "layout": "IPY_MODEL_1580a3f782f44d3b874556ef1aa63aeb",
       "placeholder": "​",
       "style": "IPY_MODEL_8ac4226b343341d08c523eaa4272685b",
       "value": " 33/33 [00:04&lt;00:00,  8.18it/s]"
      }
     },
     "e8cb325dbad540afb54c67d5ed7430b7": {
      "model_module": "@jupyter-widgets/controls",
      "model_module_version": "1.5.0",
      "model_name": "ProgressStyleModel",
      "state": {
       "_model_module": "@jupyter-widgets/controls",
       "_model_module_version": "1.5.0",
       "_model_name": "ProgressStyleModel",
       "_view_count": null,
       "_view_module": "@jupyter-widgets/base",
       "_view_module_version": "1.2.0",
       "_view_name": "StyleView",
       "bar_color": null,
       "description_width": ""
      }
     },
     "ec4226a5d4424c3989cc03cce79ecf5d": {
      "model_module": "@jupyter-widgets/base",
      "model_module_version": "1.2.0",
      "model_name": "LayoutModel",
      "state": {
       "_model_module": "@jupyter-widgets/base",
       "_model_module_version": "1.2.0",
       "_model_name": "LayoutModel",
       "_view_count": null,
       "_view_module": "@jupyter-widgets/base",
       "_view_module_version": "1.2.0",
       "_view_name": "LayoutView",
       "align_content": null,
       "align_items": null,
       "align_self": null,
       "border": null,
       "bottom": null,
       "display": null,
       "flex": null,
       "flex_flow": null,
       "grid_area": null,
       "grid_auto_columns": null,
       "grid_auto_flow": null,
       "grid_auto_rows": null,
       "grid_column": null,
       "grid_gap": null,
       "grid_row": null,
       "grid_template_areas": null,
       "grid_template_columns": null,
       "grid_template_rows": null,
       "height": null,
       "justify_content": null,
       "justify_items": null,
       "left": null,
       "margin": null,
       "max_height": null,
       "max_width": null,
       "min_height": null,
       "min_width": null,
       "object_fit": null,
       "object_position": null,
       "order": null,
       "overflow": null,
       "overflow_x": null,
       "overflow_y": null,
       "padding": null,
       "right": null,
       "top": null,
       "visibility": null,
       "width": null
      }
     },
     "ed56adb8b9b04df8a1ca57718dd8e660": {
      "model_module": "@jupyter-widgets/base",
      "model_module_version": "1.2.0",
      "model_name": "LayoutModel",
      "state": {
       "_model_module": "@jupyter-widgets/base",
       "_model_module_version": "1.2.0",
       "_model_name": "LayoutModel",
       "_view_count": null,
       "_view_module": "@jupyter-widgets/base",
       "_view_module_version": "1.2.0",
       "_view_name": "LayoutView",
       "align_content": null,
       "align_items": null,
       "align_self": null,
       "border": null,
       "bottom": null,
       "display": null,
       "flex": "2",
       "flex_flow": null,
       "grid_area": null,
       "grid_auto_columns": null,
       "grid_auto_flow": null,
       "grid_auto_rows": null,
       "grid_column": null,
       "grid_gap": null,
       "grid_row": null,
       "grid_template_areas": null,
       "grid_template_columns": null,
       "grid_template_rows": null,
       "height": null,
       "justify_content": null,
       "justify_items": null,
       "left": null,
       "margin": null,
       "max_height": null,
       "max_width": null,
       "min_height": null,
       "min_width": null,
       "object_fit": null,
       "object_position": null,
       "order": null,
       "overflow": null,
       "overflow_x": null,
       "overflow_y": null,
       "padding": null,
       "right": null,
       "top": null,
       "visibility": null,
       "width": null
      }
     },
     "f0dc177cc5a24abaa819fb42627c7f14": {
      "model_module": "@jupyter-widgets/base",
      "model_module_version": "1.2.0",
      "model_name": "LayoutModel",
      "state": {
       "_model_module": "@jupyter-widgets/base",
       "_model_module_version": "1.2.0",
       "_model_name": "LayoutModel",
       "_view_count": null,
       "_view_module": "@jupyter-widgets/base",
       "_view_module_version": "1.2.0",
       "_view_name": "LayoutView",
       "align_content": null,
       "align_items": null,
       "align_self": null,
       "border": null,
       "bottom": null,
       "display": "inline-flex",
       "flex": null,
       "flex_flow": "row wrap",
       "grid_area": null,
       "grid_auto_columns": null,
       "grid_auto_flow": null,
       "grid_auto_rows": null,
       "grid_column": null,
       "grid_gap": null,
       "grid_row": null,
       "grid_template_areas": null,
       "grid_template_columns": null,
       "grid_template_rows": null,
       "height": null,
       "justify_content": null,
       "justify_items": null,
       "left": null,
       "margin": null,
       "max_height": null,
       "max_width": null,
       "min_height": null,
       "min_width": null,
       "object_fit": null,
       "object_position": null,
       "order": null,
       "overflow": null,
       "overflow_x": null,
       "overflow_y": null,
       "padding": null,
       "right": null,
       "top": null,
       "visibility": "hidden",
       "width": "100%"
      }
     },
     "f7eda69b90ae4c3a9d0ef1bdfc4438bc": {
      "model_module": "@jupyter-widgets/base",
      "model_module_version": "1.2.0",
      "model_name": "LayoutModel",
      "state": {
       "_model_module": "@jupyter-widgets/base",
       "_model_module_version": "1.2.0",
       "_model_name": "LayoutModel",
       "_view_count": null,
       "_view_module": "@jupyter-widgets/base",
       "_view_module_version": "1.2.0",
       "_view_name": "LayoutView",
       "align_content": null,
       "align_items": null,
       "align_self": null,
       "border": null,
       "bottom": null,
       "display": null,
       "flex": "2",
       "flex_flow": null,
       "grid_area": null,
       "grid_auto_columns": null,
       "grid_auto_flow": null,
       "grid_auto_rows": null,
       "grid_column": null,
       "grid_gap": null,
       "grid_row": null,
       "grid_template_areas": null,
       "grid_template_columns": null,
       "grid_template_rows": null,
       "height": null,
       "justify_content": null,
       "justify_items": null,
       "left": null,
       "margin": null,
       "max_height": null,
       "max_width": null,
       "min_height": null,
       "min_width": null,
       "object_fit": null,
       "object_position": null,
       "order": null,
       "overflow": null,
       "overflow_x": null,
       "overflow_y": null,
       "padding": null,
       "right": null,
       "top": null,
       "visibility": null,
       "width": null
      }
     }
    },
    "version_major": 2,
    "version_minor": 0
   }
  }
 },
 "nbformat": 4,
 "nbformat_minor": 5
}
